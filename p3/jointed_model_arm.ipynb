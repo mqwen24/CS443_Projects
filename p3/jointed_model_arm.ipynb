{
 "cells": [
  {
   "attachments": {},
   "cell_type": "markdown",
   "metadata": {},
   "source": [
    "**Leo Qian, Muqing Wen**\n",
    "\n",
    "Spring 2023\n",
    "\n",
    "CS 443: Bio-inspired Machine Learning\n",
    "\n",
    "#### Week 1: Building jointed model arm\n",
    "\n",
    "# Project 3: Outstar Learning and Motor Control\n",
    "\n",
    "In this project, you will train a neural network to control a model 3-jointed arm so that it successfully reaches for one or more specified targets. The **Outstar learning rule** governs how weights are learned between between activation of neurons that sense the state of the arm and the required muscle movements to move toward the target. You will explore how you can use **self-supervised learning** to solve a complex task without pre-specified labels: the network learns how to move the arm by observing the consequences of the random movements that the arm makes. In other words, the model arm *learns by generating its own data about the world*.\n",
    "\n",
    "The focus this week will be on building and visualizing the model arm. Next week, the focus will be on implementing and exploring how the Outstar learning rule works. With both the arm and the Outstar neural network implement, on the third week you will train the model arm to reach for targets. \n",
    "\n",
    "The neural network from this project comes from the paper:\n",
    "\n",
    "    Grosse-Wentrup, M., & Contreras-Vidal, J. L. (2007).\n",
    "    The role of the striatum in adaptation learning: a computational model. Biological Cybernetics, 96(4), 377-388.\n",
    "    \n",
    "*Isn't cybernetics such a cool word?* The original reference for the model (DIRECT) is:\n",
    "\n",
    "    Bullock D, Grossberg S, Guenther FH (1993).\n",
    "    A self-organizing neural model of motor equivalent reaching and tool use by a multijoint arm J Cogn Neurosci 5:408–435"
   ]
  },
  {
   "cell_type": "code",
   "execution_count": 1,
   "metadata": {},
   "outputs": [
    {
     "ename": "OSError",
     "evalue": "'seaborn-v0_8-colorblind' not found in the style library and input is not a valid URL or path; see `style.available` for list of available styles",
     "output_type": "error",
     "traceback": [
      "\u001B[0;31m---------------------------------------------------------------------------\u001B[0m",
      "\u001B[0;31mFileNotFoundError\u001B[0m                         Traceback (most recent call last)",
      "File \u001B[0;32m~/miniforge3/lib/python3.10/site-packages/matplotlib/style/core.py:127\u001B[0m, in \u001B[0;36muse\u001B[0;34m(style)\u001B[0m\n\u001B[1;32m    126\u001B[0m \u001B[38;5;28;01mtry\u001B[39;00m:\n\u001B[0;32m--> 127\u001B[0m     rc \u001B[38;5;241m=\u001B[39m \u001B[43mrc_params_from_file\u001B[49m\u001B[43m(\u001B[49m\u001B[43mstyle\u001B[49m\u001B[43m,\u001B[49m\u001B[43m \u001B[49m\u001B[43muse_default_template\u001B[49m\u001B[38;5;241;43m=\u001B[39;49m\u001B[38;5;28;43;01mFalse\u001B[39;49;00m\u001B[43m)\u001B[49m\n\u001B[1;32m    128\u001B[0m     _apply_style(rc)\n",
      "File \u001B[0;32m~/miniforge3/lib/python3.10/site-packages/matplotlib/__init__.py:854\u001B[0m, in \u001B[0;36mrc_params_from_file\u001B[0;34m(fname, fail_on_error, use_default_template)\u001B[0m\n\u001B[1;32m    840\u001B[0m \u001B[38;5;124;03m\"\"\"\u001B[39;00m\n\u001B[1;32m    841\u001B[0m \u001B[38;5;124;03mConstruct a `RcParams` from file *fname*.\u001B[39;00m\n\u001B[1;32m    842\u001B[0m \n\u001B[0;32m   (...)\u001B[0m\n\u001B[1;32m    852\u001B[0m \u001B[38;5;124;03m    parameters specified in the file. (Useful for updating dicts.)\u001B[39;00m\n\u001B[1;32m    853\u001B[0m \u001B[38;5;124;03m\"\"\"\u001B[39;00m\n\u001B[0;32m--> 854\u001B[0m config_from_file \u001B[38;5;241m=\u001B[39m \u001B[43m_rc_params_in_file\u001B[49m\u001B[43m(\u001B[49m\u001B[43mfname\u001B[49m\u001B[43m,\u001B[49m\u001B[43m \u001B[49m\u001B[43mfail_on_error\u001B[49m\u001B[38;5;241;43m=\u001B[39;49m\u001B[43mfail_on_error\u001B[49m\u001B[43m)\u001B[49m\n\u001B[1;32m    856\u001B[0m \u001B[38;5;28;01mif\u001B[39;00m \u001B[38;5;129;01mnot\u001B[39;00m use_default_template:\n",
      "File \u001B[0;32m~/miniforge3/lib/python3.10/site-packages/matplotlib/__init__.py:780\u001B[0m, in \u001B[0;36m_rc_params_in_file\u001B[0;34m(fname, transform, fail_on_error)\u001B[0m\n\u001B[1;32m    779\u001B[0m rc_temp \u001B[38;5;241m=\u001B[39m {}\n\u001B[0;32m--> 780\u001B[0m \u001B[38;5;28;01mwith\u001B[39;00m _open_file_or_url(fname) \u001B[38;5;28;01mas\u001B[39;00m fd:\n\u001B[1;32m    781\u001B[0m     \u001B[38;5;28;01mtry\u001B[39;00m:\n",
      "File \u001B[0;32m~/miniforge3/lib/python3.10/contextlib.py:135\u001B[0m, in \u001B[0;36m_GeneratorContextManager.__enter__\u001B[0;34m(self)\u001B[0m\n\u001B[1;32m    134\u001B[0m \u001B[38;5;28;01mtry\u001B[39;00m:\n\u001B[0;32m--> 135\u001B[0m     \u001B[38;5;28;01mreturn\u001B[39;00m \u001B[38;5;28;43mnext\u001B[39;49m\u001B[43m(\u001B[49m\u001B[38;5;28;43mself\u001B[39;49m\u001B[38;5;241;43m.\u001B[39;49m\u001B[43mgen\u001B[49m\u001B[43m)\u001B[49m\n\u001B[1;32m    136\u001B[0m \u001B[38;5;28;01mexcept\u001B[39;00m \u001B[38;5;167;01mStopIteration\u001B[39;00m:\n",
      "File \u001B[0;32m~/miniforge3/lib/python3.10/site-packages/matplotlib/__init__.py:757\u001B[0m, in \u001B[0;36m_open_file_or_url\u001B[0;34m(fname)\u001B[0m\n\u001B[1;32m    756\u001B[0m     encoding \u001B[38;5;241m=\u001B[39m \u001B[38;5;124m\"\u001B[39m\u001B[38;5;124mutf-8\u001B[39m\u001B[38;5;124m\"\u001B[39m\n\u001B[0;32m--> 757\u001B[0m \u001B[38;5;28;01mwith\u001B[39;00m \u001B[38;5;28;43mopen\u001B[39;49m\u001B[43m(\u001B[49m\u001B[43mfname\u001B[49m\u001B[43m,\u001B[49m\u001B[43m \u001B[49m\u001B[43mencoding\u001B[49m\u001B[38;5;241;43m=\u001B[39;49m\u001B[43mencoding\u001B[49m\u001B[43m)\u001B[49m \u001B[38;5;28;01mas\u001B[39;00m f:\n\u001B[1;32m    758\u001B[0m     \u001B[38;5;28;01myield\u001B[39;00m f\n",
      "\u001B[0;31mFileNotFoundError\u001B[0m: [Errno 2] No such file or directory: 'seaborn-v0_8-colorblind'",
      "\nThe above exception was the direct cause of the following exception:\n",
      "\u001B[0;31mOSError\u001B[0m                                   Traceback (most recent call last)",
      "Cell \u001B[0;32mIn [1], line 5\u001B[0m\n\u001B[1;32m      2\u001B[0m \u001B[38;5;28;01mimport\u001B[39;00m \u001B[38;5;21;01mnumpy\u001B[39;00m \u001B[38;5;28;01mas\u001B[39;00m \u001B[38;5;21;01mnp\u001B[39;00m\n\u001B[1;32m      3\u001B[0m \u001B[38;5;28;01mimport\u001B[39;00m \u001B[38;5;21;01mmatplotlib\u001B[39;00m\u001B[38;5;21;01m.\u001B[39;00m\u001B[38;5;21;01mpyplot\u001B[39;00m \u001B[38;5;28;01mas\u001B[39;00m \u001B[38;5;21;01mplt\u001B[39;00m\n\u001B[0;32m----> 5\u001B[0m \u001B[43mplt\u001B[49m\u001B[38;5;241;43m.\u001B[39;49m\u001B[43mstyle\u001B[49m\u001B[38;5;241;43m.\u001B[39;49m\u001B[43muse\u001B[49m\u001B[43m(\u001B[49m\u001B[43m[\u001B[49m\u001B[38;5;124;43m'\u001B[39;49m\u001B[38;5;124;43mseaborn-v0_8-colorblind\u001B[39;49m\u001B[38;5;124;43m'\u001B[39;49m\u001B[43m,\u001B[49m\u001B[43m \u001B[49m\u001B[38;5;124;43m'\u001B[39;49m\u001B[38;5;124;43mseaborn-v0_8-darkgrid\u001B[39;49m\u001B[38;5;124;43m'\u001B[39;49m\u001B[43m]\u001B[49m\u001B[43m)\u001B[49m\n\u001B[1;32m      6\u001B[0m plt\u001B[38;5;241m.\u001B[39mrcParams\u001B[38;5;241m.\u001B[39mupdate({\u001B[38;5;124m'\u001B[39m\u001B[38;5;124mfont.size\u001B[39m\u001B[38;5;124m'\u001B[39m: \u001B[38;5;241m16\u001B[39m})\n\u001B[1;32m      7\u001B[0m plt\u001B[38;5;241m.\u001B[39mshow()\n",
      "File \u001B[0;32m~/miniforge3/lib/python3.10/site-packages/matplotlib/style/core.py:130\u001B[0m, in \u001B[0;36muse\u001B[0;34m(style)\u001B[0m\n\u001B[1;32m    128\u001B[0m     _apply_style(rc)\n\u001B[1;32m    129\u001B[0m \u001B[38;5;28;01mexcept\u001B[39;00m \u001B[38;5;167;01mIOError\u001B[39;00m \u001B[38;5;28;01mas\u001B[39;00m err:\n\u001B[0;32m--> 130\u001B[0m     \u001B[38;5;28;01mraise\u001B[39;00m \u001B[38;5;167;01mIOError\u001B[39;00m(\n\u001B[1;32m    131\u001B[0m         \u001B[38;5;124m\"\u001B[39m\u001B[38;5;132;01m{!r}\u001B[39;00m\u001B[38;5;124m not found in the style library and input is not a \u001B[39m\u001B[38;5;124m\"\u001B[39m\n\u001B[1;32m    132\u001B[0m         \u001B[38;5;124m\"\u001B[39m\u001B[38;5;124mvalid URL or path; see `style.available` for list of \u001B[39m\u001B[38;5;124m\"\u001B[39m\n\u001B[1;32m    133\u001B[0m         \u001B[38;5;124m\"\u001B[39m\u001B[38;5;124mavailable styles\u001B[39m\u001B[38;5;124m\"\u001B[39m\u001B[38;5;241m.\u001B[39mformat(style)) \u001B[38;5;28;01mfrom\u001B[39;00m \u001B[38;5;21;01merr\u001B[39;00m\n",
      "\u001B[0;31mOSError\u001B[0m: 'seaborn-v0_8-colorblind' not found in the style library and input is not a valid URL or path; see `style.available` for list of available styles"
     ]
    }
   ],
   "source": [
    "import math\n",
    "import numpy as np\n",
    "import matplotlib.pyplot as plt\n",
    "\n",
    "plt.style.use(['seaborn-v0_8-colorblind', 'seaborn-v0_8-darkgrid'])\n",
    "plt.rcParams.update({'font.size': 16})\n",
    "plt.show()\n",
    "\n",
    "np.set_printoptions(suppress=True, precision=3)\n",
    "\n",
    "# Automatically reload external modules\n",
    "%load_ext autoreload\n",
    "%autoreload 2"
   ]
  },
  {
   "cell_type": "markdown",
   "metadata": {},
   "source": [
    "## Task 1: Build and visualize model arm\n",
    "\n",
    "### Overview of the classes\n",
    "\n",
    "The model arm is composed of the following components, each of which is its own class:\n",
    "- `Joint` (`joint.py`): Each object represents ONE of the three arm joints (shoulder, elbow, wrist).\n",
    "- `EndEffector` (`joint.py`): This is the hand that is attached to the wrist joint, which must intercept with a target (i.e. come in contact with the target).\n",
    "- `Muscles` (`muscles.py`) (the \"sink\" layer): Each object represents the SIX arm muscles, each of which moves an arm joint through space. These six muscles are grouped in **agonist-antagonist pairs** and each pair controls the movement of one arm joint. For example, activation of the elbow agonist muscle moves the lower arm (forearm, wrist, and hand) CLOSER to the center (in front of the virtual person), while activation of the the elbow antagonist muscle moves the lower arm outward, AWAY from the center. *We represent all six muscles in a single object for efficiency — it allows for batch matrix multiplication by the Outstar network.*\n",
    "- `MotorNeurons` (`motor_neurons.py`) (the \"source\" layer): The motorneurons sense the current state of the arm. Each object represents a large collection of neurons that activate the muscles (that in turn move the arm). Each neuron activates only when the 3 arm joints are approximately in the neuron's \"preferred\" configuration. For example, one neuron might \"prefer\" when the angle of shoulder joint is roughly 0° and the angle of the elbow joint is roughly 90° and the angle of the angle of the wrist joint is roughly 45°. Each neuron prefers a different combination of these angles.\n",
    "- `Outstar` (`outstar.py`): Outstar neural network in which the source neurons are the `MotorNeurons` and the sink neurons are the `Muscles`. The network learns the **muscle (sink)** activations necessary to reach for the target given the activation pattern of the **motor neurons (source)**, which code the current state of the arm."
   ]
  },
  {
   "cell_type": "code",
   "execution_count": 2,
   "metadata": {},
   "outputs": [],
   "source": [
    "from joint import Joint, EndEffector\n",
    "from model_arm import Arm"
   ]
  },
  {
   "cell_type": "markdown",
   "metadata": {},
   "source": [
    "### 1a. Implement the `Joint` and `EndEffector` classes in `joint.py`\n",
    "\n",
    "Each joint (shoulder, elbow, wrist) is represented by its own `Joint` object. A joint is specified by its:\n",
    "- default angle at the beginning of each simulation (`initial_angle`)\n",
    "- distance from the shoulder, which we assume is always centered at $(x, y) = (0, 0)$. (`dist2shoulder`). This distance is along the arm segments, NOT Euclidean distance. In other words, the distance to the shoulder never changes (*we assume the arm segments do not grow in length during a simulation!*)\n",
    "- ergonomic limits on the angles that joints can take on (`angle_limits`). For example, most people's shoulder joint cannot assume angles less than -90° (without moving your torso)...that's just too far back behind you!\n",
    "\n",
    "**Notes:**\n",
    "- The `randomize_angle` method is used during training to set the joint to a random angle (within the ergonomic range) in between \"babbles\". This will be useful for allowing the model arm to \"generate its own training data\"."
   ]
  },
  {
   "cell_type": "markdown",
   "metadata": {},
   "source": [
    "#### Test `Joint` class"
   ]
  },
  {
   "cell_type": "code",
   "execution_count": 3,
   "metadata": {},
   "outputs": [
    {
     "name": "stdout",
     "output_type": "stream",
     "text": [
      "test_joint.get_dist2shoulder()=7.5 and should be 7.5\n",
      "test_joint.get_angle()=1.57 and should be 1.57\n",
      "test_joint.get_limits()=(-5, 3) and should be (-5, 3)\n",
      "After randomizing angles 1000 times, was it always between -5 and 3? True\n",
      "The angles generated were in fact different each time? True\n",
      "After updating angle test_joint.get_angle()=1.5295 and it should be 1.5295\n",
      "After joint overshoot beyond ergonomic limit, correction moves angle toward proper bounds? True\n"
     ]
    }
   ],
   "source": [
    "test_joint = Joint('Test', 1.57, 7.5, (-5, 3))\n",
    "print(f'{test_joint.get_dist2shoulder()=} and should be 7.5')\n",
    "test_joint.reset_angle()\n",
    "print(f'{test_joint.get_angle()=} and should be 1.57')\n",
    "print(f'{test_joint.get_limits()=} and should be (-5, 3)')\n",
    "a = np.zeros(1000)\n",
    "for i in range(1000):\n",
    "    test_joint.randomize_angle()\n",
    "    a[i] = test_joint.get_angle()\n",
    "print(f'After randomizing angles 1000 times, was it always between -5 and 3? {np.all(np.logical_and(a >= -5, a <= 3))}')\n",
    "print(f'The angles generated were in fact different each time? {len(np.unique(a)) == 1000}')\n",
    "\n",
    "test_joint.reset_angle()\n",
    "test_joint.update_angle(np.array([2.12, 1.31]))\n",
    "print(f'After updating angle {test_joint.get_angle()=} and it should be 1.5295')\n",
    "\n",
    "np.random.seed(0)\n",
    "test_joint.update_angle(np.array([0.12, 3.31]), angle_step=11*0.05)\n",
    "b1 = test_joint.get_angle()\n",
    "b2 = test_joint.update_angle(np.array([0.12, 3.31]), angle_step=0)\n",
    "b2 = test_joint.get_angle()\n",
    "b3 = test_joint.update_angle(np.array([0.12, 3.31]), angle_step=0)\n",
    "b3 = test_joint.get_angle()\n",
    "print(f'After joint overshoot beyond ergonomic limit, correction moves angle toward proper bounds? {b1 > b2 > b3}')"
   ]
  },
  {
   "cell_type": "markdown",
   "metadata": {},
   "source": [
    "#### Test `EndEffector` class"
   ]
  },
  {
   "cell_type": "code",
   "execution_count": 4,
   "metadata": {},
   "outputs": [
    {
     "name": "stdout",
     "output_type": "stream",
     "text": [
      "The end effector's name is my_hand and should be my_hand.\n",
      "The end effector's distance to shoulder is 99 and should be 99.\n"
     ]
    }
   ],
   "source": [
    "test_effector = EndEffector('my_hand', 99)\n",
    "print(f\"The end effector's name is {test_effector.get_name()} and should be my_hand.\")\n",
    "print(f\"The end effector's distance to shoulder is {test_effector.get_dist2shoulder()} and should be 99.\")"
   ]
  },
  {
   "cell_type": "markdown",
   "metadata": {},
   "source": [
    "### Task 1b. Implement model arm (`Arm`) methods in `model_arm.py` through `randomize_joint_angles`\n",
    "\n",
    "Although the `Arm` constructor has an argument for the Outstar network (*which has not been implemented yet*), pass in `None` and ignore it for now. At this point, **stop after implementing `randomize_joint_angles`** (i.e. do NOT implement `get_movement_dir` yet).\n",
    "\n",
    "#### Notes about `get_joint_positions(self)`\n",
    "This is the largest method in this task. It is responsible for returning an array (shape: `(4, 2)`) of the $(x, y)$ positions of the:\n",
    "1. shoulder joint\n",
    "2. elbow joint\n",
    "3. wrist joint\n",
    "4. hand (end effector)\n",
    "\n",
    "Recall that the shoulder joint is at the origin `(x, y) = (0, 0)`. The $x$ coordinates in the `(4, 2)` positions array are computed as follows:\n",
    "\n",
    "$$x_{shoulder} = 0$$\n",
    "$$x_{elbow} = x_{shoulder} + l_0cos(\\theta_{shoulder})$$\n",
    "$$x_{wrist} = x_{elbow} + l_1cos(\\theta_{shoulder} + \\theta_{elbow})$$\n",
    "$$x_{hand} = x_{wrist} + l_2cos(\\theta_{shoulder} + \\theta_{elbow} + \\theta_{wrist})$$\n",
    "\n",
    "where the $l_i$ is the length of the arm *segment* immediately preceding the joint (or end effector) — NOT distance to shoulder. The y coordinates are computed the same way, but replace `cos` with `sin`.\n",
    "\n",
    "**Note:** `cos(x)` and `sin(x)` functions assume that `x` is an angle in **radians**. You can perform computations in radians or degrees, but be consistent. I will generally provide angles in radians."
   ]
  },
  {
   "cell_type": "markdown",
   "metadata": {},
   "source": [
    "#### Test `get_joint_positions`"
   ]
  },
  {
   "cell_type": "code",
   "execution_count": 5,
   "metadata": {},
   "outputs": [
    {
     "name": "stdout",
     "output_type": "stream",
     "text": [
      "***************************************************************************\n",
      "Test 1: Positions:\n",
      "shoulder [0. 0.], elbow [2. 0.]\n",
      "wrist [2.54030231 0.84147098], hand [1.55030981 0.98259099]\n",
      "They should be:\n",
      "shoulder [0. 0.], elbow [2. 0.]\n",
      "wrist [2.54  0.841], hand [1.55  0.983]\n",
      "***************************************************************************\n",
      "Test 2: Positions:\n",
      "shoulder [0. 0.], elbow [0.28294881 3.98997995]\n",
      "wrist [0.07215301 3.01244983], hand [0.98328327 2.60033134]\n",
      "They should be:\n",
      "shoulder [0. 0.], elbow [0.283 3.99 ]\n",
      "wrist [0.072 3.012], hand [0.983 2.6  ]\n"
     ]
    }
   ],
   "source": [
    "joints = [Joint('j1', 0, 0, angle_limits=(-7, -3)),\n",
    "          Joint('j2', 1, 2, angle_limits=(10, 15)),\n",
    "          Joint('j3', 2, 3, angle_limits=(-2, 2))]\n",
    "effector = EndEffector('hand', 4)\n",
    "arm = Arm(joints, effector, None)\n",
    "pos = arm.get_joint_positions()\n",
    "print(75*'*')\n",
    "print(f'Test 1: Positions:\\nshoulder {pos[0]}, elbow {pos[1]}\\nwrist {pos[2]}, hand {pos[3]}')\n",
    "print('They should be:')\n",
    "print('''shoulder [0. 0.], elbow [2. 0.]\n",
    "wrist [2.54  0.841], hand [1.55  0.983]''')\n",
    "\n",
    "joints = [Joint('j1', 1.5, 0, angle_limits=(-7, -3)),\n",
    "          Joint('j2', 3, 4, angle_limits=(10, 15)),\n",
    "          Joint('j3', 4.5, 5, angle_limits=(-2, 2))]\n",
    "effector = EndEffector('hand', 4)\n",
    "arm = Arm(joints, effector, None)\n",
    "pos = arm.get_joint_positions()\n",
    "print(75*'*')\n",
    "print(f'Test 2: Positions:\\nshoulder {pos[0]}, elbow {pos[1]}\\nwrist {pos[2]}, hand {pos[3]}')\n",
    "print('They should be:')\n",
    "print('''shoulder [0. 0.], elbow [0.283 3.99 ]\n",
    "wrist [0.072 3.012], hand [0.983 2.6  ]''')"
   ]
  },
  {
   "cell_type": "markdown",
   "metadata": {},
   "source": [
    "### 1c. Visualize arm in reaching workspace\n",
    "\n",
    "Implement the function in the cell below to return a set of shoulder, elbow, and wrist joints and hand end effector according to the following specifications. Use the joints and hand to create a model arm then call the `plot` method to create a plot showing your arm positioned in the workspace from a birds-eye (top-down) view.\n",
    "\n",
    "#### Default arm posture: Joint and hand specifications\n",
    "\n",
    "**Shoulder:** Initial joint angle of $\\pi/8$. Joint angle limited to the range $(-\\pi/2, \\pi)$.\n",
    "\n",
    "**Elbow:** Initial joint angle of $\\pi/2$. Joint angle limited to the range $(0, \\pi)$. Length of upper arm (connecting elbow and shoulder) is 28 cm.\n",
    "\n",
    "**Wrist:** Initial joint angle of $\\pi/3$. Joint angle limited to the range $(-\\pi/2, \\pi/2)$. Length of lower arm (connecting wrist and elbow) is 28 cm.\n",
    "\n",
    "**Hand:** Distance from end-of-hand to wrist is 16 cm.\n",
    "\n",
    "#### Goal\n",
    "\n",
    "Your arm when plotted at the specified initial resting position should look like a `)` shape with the hand at x=0 (center) and y intersecting the 2nd inner-most circle.\n",
    "\n",
    "*If you would like to develop your intuition about the joint angles, play around with the initial angles and see how it affects the arm configuration!*\n",
    "\n",
    "#### Plotting note\n",
    "\n",
    "You may wish to add the `%matplotlib inline` in the cell before you create your plot. You will shortly move your arm through the workspace and we will once again make use of `notebook` plotting mode. Recall that if you are in `notebook` mode, static plots \"break\" unless you are in `inline` mode. Enforcing `inline` mode here will help ensure that your plot works if you execute notebook cells out of order."
   ]
  },
  {
   "cell_type": "code",
   "execution_count": null,
   "metadata": {},
   "outputs": [],
   "source": [
    "def create_joints_and_hand():\n",
    "    '''Creates `Joint` objects for the shoulder, elbow, and wrist and `EndEffector` object (hand) in their default configuration (posture).\n",
    "    \n",
    "    Returns:\n",
    "    -----------\n",
    "    joints: list of `Joint`. len=3. The shoulder, elbow, and wrist joints (in that order).\n",
    "    hand: `EndEffector`. Object representing the hand.\n",
    "    '''\n",
    "    pass"
   ]
  },
  {
   "cell_type": "code",
   "execution_count": null,
   "metadata": {},
   "outputs": [],
   "source": [
    "# TODO: Your code here to create joints, hand, arm and plot arm\n"
   ]
  },
  {
   "cell_type": "code",
   "execution_count": null,
   "metadata": {},
   "outputs": [],
   "source": [
    "%matplotlib inline\n",
    "# Plot arm in current configuration"
   ]
  },
  {
   "cell_type": "markdown",
   "metadata": {},
   "source": [
    "#### Test (1/2) plotting arm after randomizing angle\n",
    "\n",
    "Complete the test code below. You should only be adding 2 lines of code.\n",
    "\n",
    "Plotting the arm after randomizing the angle should result in the arm touching the nose!"
   ]
  },
  {
   "cell_type": "code",
   "execution_count": null,
   "metadata": {},
   "outputs": [],
   "source": [
    "np.random.seed(0)\n",
    "# TODO: Randomize all 3 joint angles\n",
    "\n",
    "\n",
    "# TODO: Plot arm after randomizing joint angles configuration\n",
    "%matplotlib inline\n"
   ]
  },
  {
   "cell_type": "markdown",
   "metadata": {},
   "source": [
    "#### Test (2/2) plotting arm after randomizing angle\n",
    "\n",
    "Complete the test code below. You should only be adding 2 lines of code.\n",
    "\n",
    "Plotting after randomizing the angle should show the arm fully extended (\"straight\") and reaching out at roughly a +45° angle."
   ]
  },
  {
   "cell_type": "code",
   "execution_count": null,
   "metadata": {},
   "outputs": [],
   "source": [
    "np.random.seed(2)\n",
    "# TODO: Plot arm after randomizing joint angles configuration\n",
    "\n",
    "\n",
    "# TODO: Plot arm after randomizing joint angles configuration\n",
    "%matplotlib inline\n"
   ]
  },
  {
   "cell_type": "markdown",
   "metadata": {},
   "source": [
    "## Task 2: Moving the arm with muscles"
   ]
  },
  {
   "cell_type": "markdown",
   "metadata": {},
   "source": [
    "### 2a. Testing and visualizing arm movement\n",
    "\n",
    "The activation of muscles are responsible for moving the arm by *changing the angles* of nearby joints on the arm (`update_angle` method in `Joint`). Before implementing the arm muscles, we will simulate their effect using your existing code. This will allow you to explore how the activations of specific muscles (e.g. attached to shoulder, elbow, etc) move the arm and test to make sure the range of motion of your joint work as expected (i.e. joint angles do not go out-of-bounds).\n",
    "\n",
    "**TODO:** Complete the test code below then run the test cases and make sure the animations show the expected movement."
   ]
  },
  {
   "cell_type": "code",
   "execution_count": null,
   "metadata": {},
   "outputs": [],
   "source": [
    "def muscle_tester(which, n_steps=10, rate=1):\n",
    "    # TODO: Make joints, hand, and arm here. Use the same config as in Task 1.\n",
    "\n",
    "    \n",
    "    # Mock muscle activations for testing. 2 muscles (one agonist/antagonist pair) simulated.\n",
    "    act_phase_1 = np.array([1, 0])\n",
    "    act_phase_2 = np.array([0, 1])\n",
    "    if which == 'shoulder':\n",
    "        print('Testing shoulder...')\n",
    "        # Move right        \n",
    "        test_muscle(arm, act_phase_1, 0, rot_rate=rate*0.05, n_steps=n_steps)\n",
    "        # Move left\n",
    "        test_muscle(arm, act_phase_2, 0, rot_rate=rate*0.05, n_steps=n_steps)\n",
    "    elif which == 'shoulder_oob_back':\n",
    "        print('Testing swinging arm back at shoulder joint...')\n",
    "        # Swing arm back        \n",
    "        test_muscle(arm, act_phase_1, 0, rot_rate=rate*0.05, n_steps=n_steps)\n",
    "    elif which == 'shoulder_oob_across':\n",
    "        print('Testing swinging arm across at shoulder joint...')\n",
    "        # Swing arm across        \n",
    "        test_muscle(arm, act_phase_2, 0, rot_rate=rate*0.05, n_steps=n_steps)\n",
    "    elif which == 'elbow':\n",
    "        print('Testing elbow...')\n",
    "        # Move right        \n",
    "        test_muscle(arm, act_phase_1, 1, rot_rate=rate*0.05, n_steps=n_steps)\n",
    "        # Move left\n",
    "        test_muscle(arm, act_phase_2, 1, rot_rate=rate*0.05, n_steps=n_steps)\n",
    "    elif which == 'wrist':\n",
    "        print('Testing wrist...')\n",
    "        # Move right        \n",
    "        test_muscle(arm, act_phase_1, 2, rot_rate=rate*0.05, n_steps=n_steps)\n",
    "        # Move left\n",
    "        test_muscle(arm, act_phase_2, 2, rot_rate=rate*0.05, n_steps=n_steps)\n",
    "    elif which == 'arm':\n",
    "        print('Testing whole arm...')\n",
    "        # Move right        \n",
    "        test_muscles(arm, act_phase_2, rot_rate=rate*0.05, n_steps=n_steps)\n",
    "        # Move left\n",
    "        test_muscles(arm, act_phase_1, rot_rate=rate*0.05, n_steps=n_steps)\n",
    "        \n",
    "\n",
    "def test_muscle(arm, muscle_acts, joint_ind, rot_rate=1, n_steps=10):\n",
    "    arm.plot()\n",
    "    for t in range(n_steps):\n",
    "        joint = arm.get_joints()[joint_ind]\n",
    "        joint.update_angle(muscle_acts, angle_step=rot_rate)\n",
    "        arm.plot()\n",
    "\n",
    "        \n",
    "def test_muscles(arm, muscle_acts, rot_rate=1, n_steps=10):\n",
    "    arm.plot()\n",
    "    for t in range(n_steps):\n",
    "        joints = arm.get_joints()\n",
    "        for joint in joints:\n",
    "            joint.update_angle(muscle_acts, angle_step=rot_rate)\n",
    "        arm.plot()"
   ]
  },
  {
   "cell_type": "markdown",
   "metadata": {},
   "source": [
    "#### Test: Shoulder\n",
    "\n",
    "Running the following code should result in the arm rigidly rotating right at the shoulder joint then left back to the initial posture. The arm itself should always look like ')', but rotating about shoulder."
   ]
  },
  {
   "cell_type": "code",
   "execution_count": null,
   "metadata": {},
   "outputs": [],
   "source": [
    "%matplotlib notebook\n",
    "muscle_tester('shoulder', n_steps=10)"
   ]
  },
  {
   "cell_type": "markdown",
   "metadata": {},
   "source": [
    "#### Test: Shoulder rightward extreme range of motion\n",
    "\n",
    "The arm should swing back rightward at shoulder joint. When the upper arm points downward (-90°), you should see the shoulder resisting to move the arm further back, with slight \"pulsing\" of the upper arm segment back in the forward direction."
   ]
  },
  {
   "cell_type": "code",
   "execution_count": null,
   "metadata": {},
   "outputs": [],
   "source": [
    "%matplotlib notebook\n",
    "muscle_tester('shoulder_oob_back', n_steps=60, rate=1)"
   ]
  },
  {
   "cell_type": "markdown",
   "metadata": {},
   "source": [
    "#### Test: Shoulder leftward extreme range of motion\n",
    "\n",
    "The arm should swing across the midline toward the left shoulder then past it (*posture should look uncomfortable!*). When upper arm points left (180°), you should see the shoulder resisting movement of the arm further back, with slight \"pulsing\" of the upper arm segment back in the forward direction."
   ]
  },
  {
   "cell_type": "code",
   "execution_count": null,
   "metadata": {},
   "outputs": [],
   "source": [
    "%matplotlib notebook\n",
    "muscle_tester('shoulder_oob_across', n_steps=60, rate=1)"
   ]
  },
  {
   "cell_type": "markdown",
   "metadata": {},
   "source": [
    "#### Test: Elbow\n",
    "\n",
    "Running the following code should result in the upper arm remaining fixed at a ~+45° angle while the lower arm and hand rigidly swing right until the lower arm and upper arm make \"a straight line\" together (i.e. are parallel). After this, the arm should swing back to the initial position. The rotation rate should look noticably faster than with the shoulder test.\n",
    "\n",
    "*Those that do weight lifting: This movement should look somewhat like a [chest fly](https://en.wikipedia.org/wiki/Fly_(exercise)) except the upper arm remains fixed*."
   ]
  },
  {
   "cell_type": "code",
   "execution_count": null,
   "metadata": {},
   "outputs": [],
   "source": [
    "%matplotlib notebook\n",
    "muscle_tester('elbow', n_steps=10, rate=3)"
   ]
  },
  {
   "cell_type": "markdown",
   "metadata": {},
   "source": [
    "#### Test: Wrist\n",
    "\n",
    "Running the following code should result in the upper and lower arm remaining in the initial position. Only the wrist rotates at noticably slower rate. The wrist should rotate right until it is roughly parallel to the lower arm then rotate leftward, back to initial position."
   ]
  },
  {
   "cell_type": "code",
   "execution_count": null,
   "metadata": {},
   "outputs": [],
   "source": [
    "%matplotlib notebook\n",
    "muscle_tester('wrist', n_steps=20, rate=0.5)"
   ]
  },
  {
   "cell_type": "markdown",
   "metadata": {},
   "source": [
    "#### Test: Whole arm rotation\n",
    "\n",
    "Running the following code should result in the whole arm look like it is \"flexing\" its bicept muscle then moving back to the initial ')' posture. At the most \"flexed\" state, the hand should touch the shoulder."
   ]
  },
  {
   "cell_type": "code",
   "execution_count": null,
   "metadata": {},
   "outputs": [],
   "source": [
    "%matplotlib notebook\n",
    "muscle_tester('arm', n_steps=10)"
   ]
  },
  {
   "cell_type": "markdown",
   "metadata": {},
   "source": [
    "### 2b. Implement the `Muscles` class (`muscles.py`)\n",
    "\n",
    "Muscles will be the sinks of the Outstar neural network. Each arm segment (i.e. shoulder, upper arm, lower arm) is represented by a pair (two) of agonist/antagonist muscles that together move ONE arm joint in opposing directions. Recall that an example is biceps/triceps in the upper arm. The `Muscles` class represents all the muscles in the model arm, but in pairs (i.e. 2 or 4 muscles would be valid, 1 or 3 muscles would not). We are modeling a human arm with 3 joints so assume that there are 6 muscles total.\n",
    "\n",
    "#### `randomize_acts` method\n",
    "This is the most involved implementation and is a key method that you will use when training your arm to reach. It helps makes the arm \"babble\" — calling it returns random muscle activations, but **only one muscle in each pair has nonzero (random) activation!** So it returns an array of 6 floats (one per muscle) with 3 `0`s and 3 positive floats. Muscle pairs are adjacent in the activation array."
   ]
  },
  {
   "cell_type": "code",
   "execution_count": null,
   "metadata": {},
   "outputs": [],
   "source": [
    "from muscles import Muscles"
   ]
  },
  {
   "cell_type": "markdown",
   "metadata": {},
   "source": [
    "#### Test `Muscles`"
   ]
  },
  {
   "cell_type": "code",
   "execution_count": null,
   "metadata": {},
   "outputs": [],
   "source": [
    "m = Muscles()\n",
    "prev_act = 0\n",
    "for i in range(5):\n",
    "    a = m.randomize_acts()\n",
    "    print(f'{i}: Number of nonzero muscle activations = {len(np.nonzero(a)[0])} (should be 3)')\n",
    "    print(f'   current random activation array: {a}.\\n   All numbers should be >= 0 and only 1 nonzero value in each adjacent pair.')\n",
    "    if np.all(prev_act == a):\n",
    "        print('  Your muscle activations are the same across calls to randomize_acts but they should not be.')\n",
    "    prev_act = a"
   ]
  },
  {
   "cell_type": "markdown",
   "metadata": {},
   "source": [
    "### 2c. Simulate and visualize motor babbling: Moving arm with random muscle activations\n",
    "\n",
    "Much like how infant human babies learn, the babbling will allow the model arm to *generate its own dataset*. Task 4 will involve the Outstar learning rule, which will enable your arm to learn to reach for targets from the self-supervised motor babbling training process.\n",
    "\n",
    "For now, complete the test code below that generates random muscle activations and animates the resulting movement of the arm in the workspace.\n",
    "\n"
   ]
  },
  {
   "cell_type": "code",
   "execution_count": null,
   "metadata": {},
   "outputs": [],
   "source": [
    "def babbling_test(n_steps=30):\n",
    "    # TODO: Make joints, hand and arm here. Use config from Task 1.\n",
    "\n",
    "\n",
    "    # TODO: Make Muscles object here with 3 antagonist-agonist muscle pairs\n",
    "\n",
    "    \n",
    "    # Plot arm with initial posture\n",
    "    arm.plot()\n",
    "    \n",
    "    # Do motor babbling for `n_steps`\n",
    "    for t in range(n_steps):\n",
    "        # Do forward pass on sink layer (muscles) to get their (random) net_acts\n",
    "        muscle_acts = muscles.forward()\n",
    "        # Get the list of Joint objects from the Arm\n",
    "        joints = arm.get_joints()\n",
    "\n",
    "        # TODO: For each joint, apply the activations from the appropriate muscle pair\n",
    "        # There are 3 joints and 6 muscles\n",
    "        # 1st joint gets input from 1st two muscles\n",
    "        # 2nd joint gets input from middle two muscles\n",
    "        # 3rd joint gets input from last two muscles\n",
    "        # Ideally, implement this without hard-coding\n",
    "\n",
    "        \n",
    "        # Plot the arm with the updated posture\n",
    "        arm.plot()"
   ]
  },
  {
   "cell_type": "markdown",
   "metadata": {},
   "source": [
    "#### Test: Babbling\n",
    "\n",
    "By running the cell below, you should see each segment of the arm \"wiggle\" at each time step, but overall the arm should not drift too far from the initial posture across time. At each time step, each arm segment should move independently of the others (i.e. upper arm, lower arm, and hand move in different directions)."
   ]
  },
  {
   "cell_type": "code",
   "execution_count": null,
   "metadata": {},
   "outputs": [],
   "source": [
    "%matplotlib notebook\n",
    "babbling_test()"
   ]
  }
 ],
 "metadata": {
  "kernelspec": {
   "display_name": "Python 3 (ipykernel)",
   "language": "python",
   "name": "python3"
  },
  "language_info": {
   "codemirror_mode": {
    "name": "ipython",
    "version": 3
   },
   "file_extension": ".py",
   "mimetype": "text/x-python",
   "name": "python",
   "nbconvert_exporter": "python",
   "pygments_lexer": "ipython3",
   "version": "3.10.9"
  },
  "vscode": {
   "interpreter": {
    "hash": "aee8b7b246df8f9039afb4144a1f6fd8d2ca17a180786b69acc140d282b71a49"
   }
  }
 },
 "nbformat": 4,
 "nbformat_minor": 2
}
