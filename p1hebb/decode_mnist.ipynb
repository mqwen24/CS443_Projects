{
 "cells": [
  {
   "cell_type": "markdown",
   "id": "6083f220",
   "metadata": {},
   "source": [
    "**Muqing Wen, Leo Qian**\n",
    "\n",
    "Spring 2023\n",
    "\n",
    "CS 443: Bio-inspired Machine Learning\n",
    "\n",
    "#### Week 3: Train decoders to classify MNIST from Hebbian network activations\n",
    "\n",
    "# Project 1: Hebbian Learning\n",
    "\n",
    "You will use your linear and nonlinear decoders to predict the digit classification accuracy on MNIST based on the learned Hebbian representation (i.e. weights) that you saved last week."
   ]
  },
  {
   "cell_type": "code",
   "execution_count": 1,
   "id": "81130992",
   "metadata": {},
   "outputs": [],
   "source": [
    "import numpy as np\n",
    "import matplotlib.pyplot as plt\n",
    "import pandas as pd\n",
    "import tensorflow as tf\n",
    "\n",
    "import time\n",
    "\n",
    "from mnist import get_mnist\n",
    "from hebb_net import HebbNet\n",
    "\n",
    "plt.style.use(['seaborn-v0_8-colorblind', 'seaborn-v0_8-darkgrid'])\n",
    "plt.show()\n",
    "plt.rcParams.update({'font.size': 18})\n",
    "\n",
    "np.set_printoptions(suppress=True, precision=3)\n",
    "\n",
    "%load_ext autoreload\n",
    "%autoreload 2"
   ]
  },
  {
   "cell_type": "markdown",
   "id": "90f46184",
   "metadata": {},
   "source": [
    "## Task 5: Train and test decoders on MNIST"
   ]
  },
  {
   "cell_type": "markdown",
   "id": "73b6a636",
   "metadata": {},
   "source": [
    "### 5a. Preparing decoder inputs\n",
    "\n",
    "In the cell below:\n",
    "- load the raw MNIST train/test/validation samples. Reserve 2000 training samples for validation.\n",
    "- process them with your the Hebbian network (i.e. compute their corresponding netIn values) to get the input for your decoders.\n",
    "- Cast each of the train/test/validation values to the `tf.float32` datatype.\n",
    "\n",
    "**Tips:**\n",
    "- Your Hebbian network constructor has a keyword argument that you can use to load wts from a previously trained network. You should not need to retrain your Hebbian network!\n",
    "- When creating your Hebbian network object, remember to build it with the same hyperparameters as you did last week (e.g. number of neurons)."
   ]
  },
  {
   "cell_type": "code",
   "execution_count": 2,
   "id": "dbe9201d",
   "metadata": {},
   "outputs": [],
   "source": [
    "x_train, y_train, x_test, y_test, x_val, y_val = get_mnist(2000)\n",
    "\n",
    "y_train = tf.Variable(y_train,dtype=tf.int64)\n",
    "x_test = tf.Variable(x_test,dtype=tf.float32)\n",
    "y_test = tf.Variable(y_test,dtype=tf.int64)\n",
    "y_val = tf.Variable(y_val,dtype=tf.int64)\n",
    "\n",
    "M = x_train.shape[1]\n",
    "H = 500\n",
    "net = HebbNet(M, H, kth_place_inhibited=6, load_wts=True)\n",
    "\n",
    "x_train = net.net_in(x_train)\n",
    "x_val = net.net_in(x_val)\n",
    "\n",
    "x_train = tf.Variable(x_train,dtype=tf.float32)\n",
    "x_val = tf.Variable(x_val,dtype=tf.float32)"
   ]
  },
  {
   "cell_type": "markdown",
   "id": "de17596a",
   "metadata": {},
   "source": [
    "### 5b. Linear decoder\n",
    "\n",
    "Train your softmax classifier on the Hebbian network `net_in` activations obtained from processing the MNIST training set. The hyperparameters are up to you, but you should generally make principled choices (see question below).\n",
    "\n",
    "#### Guidelines\n",
    "\n",
    "- Training should be fairly quick (no more than a few minutes).\n",
    "- Make use of the validation set to monitor progress while training.\n",
    "- **Remember:** you are **NOT** training the softmax classifier **on MNIST** — you are training it on the `net_in` values produced by the Hebbian network that you trained above!\n",
    "- Checking the validation accuracy too frequently will slow down training, but if you check too infrequently you won't know what's going on.\n",
    "\n",
    "\n",
    "#### Results\n",
    "\n",
    "Here are the items that you should report in the cell(s) below:\n",
    "\n",
    "- Accuracy of the softmax classifier on the test set.\n",
    "- Create a well-labeled plot showing the training and validation loss over epochs (*note: because you likely did not check validation loss on each epoch, but \"x\" epoch values for each loss will likely be different. Account for this when generating \"x\" values used in the plot.*)."
   ]
  },
  {
   "cell_type": "code",
   "execution_count": 3,
   "id": "1b5020bd",
   "metadata": {},
   "outputs": [],
   "source": [
    "from neural_decoder import SoftmaxDecoder"
   ]
  },
  {
   "cell_type": "code",
   "execution_count": 4,
   "id": "38c41ec9",
   "metadata": {},
   "outputs": [],
   "source": [
    "net_001 = SoftmaxDecoder(num_features=H, num_classes=np.unique(y_val).shape[0], wt_stdev=0.1)"
   ]
  },
  {
   "cell_type": "code",
   "execution_count": 5,
   "id": "279db83b",
   "metadata": {
    "scrolled": true,
    "tags": []
   },
   "outputs": [
    {
     "name": "stdout",
     "output_type": "stream",
     "text": [
      "Starting to train network ....\n",
      "Epoch 0/500, Training Loss: 10.83, Val loss: 10.63, Val acc: 11.90%.\n",
      "\n",
      "Epoch 10/500, Training Loss: 0.70, Val loss: 0.78, Val acc: 76.40%.\n",
      "\n",
      "Epoch 20/500, Training Loss: 0.56, Val loss: 0.59, Val acc: 82.95%.\n",
      "\n",
      "Epoch 30/500, Training Loss: 0.52, Val loss: 0.51, Val acc: 85.30%.\n",
      "\n",
      "Epoch 40/500, Training Loss: 0.48, Val loss: 0.47, Val acc: 86.30%.\n",
      "\n",
      "Epoch 50/500, Training Loss: 0.44, Val loss: 0.45, Val acc: 86.60%.\n",
      "\n",
      "Epoch 60/500, Training Loss: 0.35, Val loss: 0.43, Val acc: 87.50%.\n",
      "\n",
      "Epoch 70/500, Training Loss: 0.38, Val loss: 0.42, Val acc: 87.60%.\n",
      "\n",
      "Epoch 80/500, Training Loss: 0.36, Val loss: 0.41, Val acc: 88.10%.\n",
      "\n",
      "Epoch 90/500, Training Loss: 0.35, Val loss: 0.40, Val acc: 88.40%.\n",
      "\n",
      "Epoch 100/500, Training Loss: 0.34, Val loss: 0.39, Val acc: 88.40%.\n",
      "\n",
      "Epoch 110/500, Training Loss: 0.41, Val loss: 0.39, Val acc: 88.35%.\n",
      "\n",
      "Epoch 120/500, Training Loss: 0.34, Val loss: 0.39, Val acc: 88.25%.\n",
      "\n",
      "Epoch 130/500, Training Loss: 0.35, Val loss: 0.38, Val acc: 88.95%.\n",
      "\n",
      "Epoch 140/500, Training Loss: 0.40, Val loss: 0.38, Val acc: 88.70%.\n",
      "\n",
      "Epoch 150/500, Training Loss: 0.35, Val loss: 0.37, Val acc: 88.95%.\n",
      "\n",
      "Epoch 160/500, Training Loss: 0.33, Val loss: 0.37, Val acc: 88.70%.\n",
      "\n",
      "Epoch 170/500, Training Loss: 0.39, Val loss: 0.37, Val acc: 88.80%.\n",
      "\n",
      "Epoch 180/500, Training Loss: 0.43, Val loss: 0.37, Val acc: 89.10%.\n",
      "\n",
      "Epoch 190/500, Training Loss: 0.35, Val loss: 0.36, Val acc: 89.35%.\n",
      "\n",
      "Epoch 200/500, Training Loss: 0.34, Val loss: 0.36, Val acc: 89.45%.\n",
      "\n",
      "Epoch 210/500, Training Loss: 0.32, Val loss: 0.36, Val acc: 89.65%.\n",
      "\n",
      "Epoch 220/500, Training Loss: 0.33, Val loss: 0.36, Val acc: 89.05%.\n",
      "\n",
      "Epoch 230/500, Training Loss: 0.38, Val loss: 0.36, Val acc: 89.25%.\n",
      "\n",
      "Epoch 240/500, Training Loss: 0.35, Val loss: 0.36, Val acc: 89.10%.\n",
      "\n",
      "Epoch 250/500, Training Loss: 0.37, Val loss: 0.36, Val acc: 89.30%.\n",
      "\n",
      "Epoch 260/500, Training Loss: 0.36, Val loss: 0.36, Val acc: 89.40%.\n",
      "\n",
      "Epoch 270/500, Training Loss: 0.35, Val loss: 0.36, Val acc: 89.20%.\n",
      "\n",
      "Epoch 280/500, Training Loss: 0.33, Val loss: 0.36, Val acc: 89.30%.\n",
      "\n",
      "Epoch 290/500, Training Loss: 0.31, Val loss: 0.35, Val acc: 89.35%.\n",
      "\n",
      "Epoch 300/500, Training Loss: 0.35, Val loss: 0.35, Val acc: 89.65%.\n",
      "\n",
      "Epoch 310/500, Training Loss: 0.39, Val loss: 0.35, Val acc: 89.50%.\n",
      "\n",
      "Epoch 320/500, Training Loss: 0.29, Val loss: 0.35, Val acc: 89.50%.\n",
      "\n",
      "Epoch 330/500, Training Loss: 0.39, Val loss: 0.35, Val acc: 89.40%.\n",
      "\n",
      "Epoch 340/500, Training Loss: 0.38, Val loss: 0.35, Val acc: 89.70%.\n",
      "\n",
      "Epoch 350/500, Training Loss: 0.33, Val loss: 0.35, Val acc: 89.75%.\n",
      "\n",
      "Epoch 360/500, Training Loss: 0.33, Val loss: 0.35, Val acc: 89.35%.\n",
      "\n",
      "Epoch 370/500, Training Loss: 0.37, Val loss: 0.35, Val acc: 89.70%.\n",
      "\n",
      "Epoch 380/500, Training Loss: 0.35, Val loss: 0.35, Val acc: 89.60%.\n",
      "\n",
      "Epoch 390/500, Training Loss: 0.39, Val loss: 0.35, Val acc: 89.60%.\n",
      "\n",
      "Epoch 400/500, Training Loss: 0.32, Val loss: 0.35, Val acc: 89.80%.\n",
      "\n",
      "Epoch 410/500, Training Loss: 0.35, Val loss: 0.35, Val acc: 89.55%.\n",
      "\n",
      "Epoch 420/500, Training Loss: 0.30, Val loss: 0.35, Val acc: 89.65%.\n",
      "\n",
      "Epoch 430/500, Training Loss: 0.29, Val loss: 0.35, Val acc: 89.50%.\n",
      "\n",
      "Epoch 440/500, Training Loss: 0.32, Val loss: 0.35, Val acc: 89.50%.\n",
      "\n"
     ]
    }
   ],
   "source": [
    "train_loss_hist, val_loss_hist, num_epochs = net_001.fit(x_train, y_train, x_val=x_val, y_val=y_val, mini_batch_sz=512, lr=1e-4, max_epochs=500, patience=10, val_every=10,\n",
    "            verbose=True)"
   ]
  },
  {
   "cell_type": "code",
   "execution_count": 39,
   "id": "75997e76-cbf1-4556-b8f7-39b3d0f586d6",
   "metadata": {},
   "outputs": [
    {
     "name": "stdout",
     "output_type": "stream",
     "text": [
      "49959\n",
      "441.01737931034484\n",
      "45\n",
      "45\n"
     ]
    }
   ],
   "source": [
    "print(len(train_loss_hist))\n",
    "print(len(train_loss_hist)/(x_train.shape[0]/512))\n",
    "print((len(val_loss_hist)))\n",
    "print(len(list(np.arange(len(val_loss_hist))* 10)))"
   ]
  },
  {
   "cell_type": "code",
   "execution_count": 61,
   "id": "02691e0b",
   "metadata": {
    "collapsed": false,
    "jupyter": {
     "outputs_hidden": false
    }
   },
   "outputs": [],
   "source": [
    "def plot_train_valid_loss(train_loss, valid_loss, title=\"Training and Validation Loss\", acc_freq=None, n_samps=None,\n",
    "                       batch_sz=None):\n",
    "    x_train = []\n",
    "    \n",
    "    for i in range(len(train_loss)):\n",
    "        i_epoch = int(i/ (n_samps / batch_sz))\n",
    "        x_train.append(i_epoch)\n",
    "    \n",
    "    # print(x_train)\n",
    "        \n",
    "    x_valid = list(np.arange(len(valid_loss))* acc_freq)\n",
    "\n",
    "    fig, axes = plt.subplots(nrows=1, ncols=1, figsize=(9, 9))\n",
    "\n",
    "    axes.plot(x_train, train_loss, \".b-\", markersize=10, label=\"Train Loss\")\n",
    "    axes.plot(x_valid, valid_loss, \".r-\", markersize=10, label=\"Valid Loss\")\n",
    "\n",
    "    # Axes.set_xlabel(xlabel)\n",
    "    axes.set_xlabel(\"Training Epochs\")\n",
    "    axes.set_ylabel(\"Loss\")\n",
    "\n",
    "    # axes.set_xticks(x_list)\n",
    "    axes.set_xticklabels(axes.get_xticks(), rotation=0)\n",
    "\n",
    "    # frameon: Whether the legend should be drawn on a patch (frame).\n",
    "    axes.legend(loc=\"lower left\", bbox_to_anchor=(1, 0), frameon=True, edgecolor=\"black\")\n",
    "\n",
    "    axes.set_title(title)\n",
    "    plt.show()"
   ]
  },
  {
   "cell_type": "code",
   "execution_count": 62,
   "id": "e45b9583-fabf-40ca-947d-36b4d69eba82",
   "metadata": {},
   "outputs": [
    {
     "name": "stderr",
     "output_type": "stream",
     "text": [
      "C:\\Users\\wenmu\\AppData\\Local\\Temp\\ipykernel_26320\\2888732660.py:23: UserWarning: FixedFormatter should only be used together with FixedLocator\n",
      "  axes.set_xticklabels(axes.get_xticks(), rotation=0)\n"
     ]
    },
    {
     "data": {
      "image/png": "[encoded data removed]",
      "text/plain": [
       "<Figure size 648x648 with 1 Axes>"
      ]
     },
     "metadata": {
      "needs_background": "light"
     },
     "output_type": "display_data"
    }
   ],
   "source": [
    "plot_train_valid_loss(train_loss_hist, val_loss_hist, acc_freq=10, n_samps=x_train.shape[0], batch_sz=512)"
   ]
  },
  {
   "cell_type": "markdown",
   "id": "e6969aeb",
   "metadata": {},
   "source": [
    "### 5c. Nonlinear decoder\n",
    "\n",
    "Repeat what you did for the softmax classifier with the nonlinear classifier.\n",
    "\n",
    "**Note there is one additional step:** Once you get the Hebbian network `net_in` values for the train/validation/test sets, the nonlinear decoding network proposed by Krotov & Hopfield (2019) assumes that the Hebbian network `net_in` values ($h_{ij}$) that serve as the input to the decoder are transformed by the following activation function:\n",
    "\n",
    "$$x_{ij} = max(h_{ij}, 0)^n$$\n",
    "\n",
    "where $h_{ij}$ are the Hebbian network `net_in` values. In other words, apply ReLU to the `net_in` values then raise the result to the power `n`. By default, we assume that the hyperparameter $n=5$.\n",
    "\n",
    "**This additional ReLU step needs to be performed on the `net_in` values representing each of the decoder train/validation/test sets!!**\n",
    "\n",
    "\n",
    "#### Guidelines\n",
    "\n",
    "- Training should be fairly quick, but it might take a few minutes longer than the softmax network due to the added complexity.\n",
    "- The max epochs will need to be set much higher than for the softmax decoder (at least several thousand).\n",
    "- You likely will need different hyperparameter values here than the softmax network.\n",
    "- Try using the default $\\beta = 0.005$ and $m = 6$ (loss function exponent) hyperparameter values."
   ]
  },
  {
   "cell_type": "code",
   "execution_count": 53,
   "id": "a9d1969e",
   "metadata": {},
   "outputs": [],
   "source": [
    "from neural_decoder import NonlinearDecoder"
   ]
  },
  {
   "cell_type": "code",
   "execution_count": 54,
   "id": "c68dda4c",
   "metadata": {},
   "outputs": [],
   "source": [
    "def preprocess_nonlinear(x, n=5):\n",
    "    x = tf.nn.relu(x)**n\n",
    "    return x"
   ]
  },
  {
   "cell_type": "code",
   "execution_count": 56,
   "id": "0aa3d888-e5ec-4473-9b83-5561d461ebf9",
   "metadata": {},
   "outputs": [],
   "source": [
    "x_train, y_train, x_test, y_test, x_val, y_val = get_mnist(2000)\n",
    "\n",
    "y_train = tf.Variable(y_train,dtype=tf.int64)\n",
    "x_test = tf.Variable(x_test,dtype=tf.float32)\n",
    "y_test = tf.Variable(y_test,dtype=tf.int64)\n",
    "y_val = tf.Variable(y_val,dtype=tf.int64)\n",
    "\n",
    "M = x_train.shape[1]\n",
    "H = 500\n",
    "net = HebbNet(M, H, kth_place_inhibited=6, load_wts=True)\n",
    "\n",
    "x_train = net.net_in(x_train)\n",
    "x_val = net.net_in(x_val)\n",
    "\n",
    "x_train = tf.Variable(x_train,dtype=tf.float32)\n",
    "x_val = tf.Variable(x_val,dtype=tf.float32)"
   ]
  },
  {
   "cell_type": "code",
   "execution_count": 57,
   "id": "3c5e9f16",
   "metadata": {
    "scrolled": true,
    "tags": []
   },
   "outputs": [
    {
     "name": "stdout",
     "output_type": "stream",
     "text": [
      "Starting to train network ....\n",
      "Epoch 0/500, Training Loss: 155701.34, Val loss: 605861.88, Val acc: 10.00%.\n",
      "\n",
      "Epoch 10/500, Training Loss: 22538.15, Val loss: 89558.64, Val acc: 39.20%.\n",
      "\n",
      "Epoch 20/500, Training Loss: 16108.20, Val loss: 61603.80, Val acc: 60.15%.\n",
      "\n",
      "Epoch 30/500, Training Loss: 13965.98, Val loss: 54606.57, Val acc: 65.05%.\n",
      "\n",
      "Epoch 40/500, Training Loss: 12150.57, Val loss: 47279.46, Val acc: 70.20%.\n",
      "\n",
      "Epoch 50/500, Training Loss: 8724.40, Val loss: 33322.25, Val acc: 80.10%.\n",
      "\n",
      "Epoch 60/500, Training Loss: 8502.18, Val loss: 30779.55, Val acc: 82.75%.\n",
      "\n",
      "Epoch 70/500, Training Loss: 8062.03, Val loss: 29297.20, Val acc: 82.95%.\n",
      "\n",
      "Epoch 80/500, Training Loss: 7691.91, Val loss: 28047.41, Val acc: 83.50%.\n",
      "\n",
      "Epoch 90/500, Training Loss: 6585.68, Val loss: 26985.90, Val acc: 83.70%.\n",
      "\n",
      "Epoch 100/500, Training Loss: 6562.50, Val loss: 26745.71, Val acc: 84.50%.\n",
      "\n",
      "Epoch 110/500, Training Loss: 6527.54, Val loss: 26139.96, Val acc: 84.25%.\n",
      "\n",
      "Epoch 120/500, Training Loss: 5122.50, Val loss: 19650.11, Val acc: 90.40%.\n",
      "\n",
      "Epoch 130/500, Training Loss: 4745.17, Val loss: 17503.12, Val acc: 91.50%.\n",
      "\n",
      "Epoch 140/500, Training Loss: 3840.65, Val loss: 16673.09, Val acc: 92.40%.\n",
      "\n",
      "Epoch 150/500, Training Loss: 5034.50, Val loss: 15696.33, Val acc: 92.55%.\n",
      "\n",
      "Epoch 160/500, Training Loss: 4385.66, Val loss: 15114.29, Val acc: 92.60%.\n",
      "\n",
      "Epoch 170/500, Training Loss: 3567.34, Val loss: 14220.59, Val acc: 93.40%.\n",
      "\n",
      "Epoch 180/500, Training Loss: 3317.67, Val loss: 13915.34, Val acc: 93.35%.\n",
      "\n",
      "Epoch 190/500, Training Loss: 3608.23, Val loss: 13943.28, Val acc: 93.60%.\n",
      "\n",
      "Epoch 200/500, Training Loss: 3431.44, Val loss: 13500.50, Val acc: 93.60%.\n",
      "\n",
      "Epoch 210/500, Training Loss: 3532.62, Val loss: 13021.14, Val acc: 93.60%.\n",
      "\n",
      "Epoch 220/500, Training Loss: 3393.10, Val loss: 12527.96, Val acc: 93.65%.\n",
      "\n",
      "Epoch 230/500, Training Loss: 2818.45, Val loss: 12724.93, Val acc: 93.60%.\n",
      "\n",
      "Epoch 240/500, Training Loss: 3450.11, Val loss: 12454.53, Val acc: 93.80%.\n",
      "\n",
      "Epoch 250/500, Training Loss: 3204.79, Val loss: 12113.30, Val acc: 93.75%.\n",
      "\n",
      "Epoch 260/500, Training Loss: 2362.01, Val loss: 11953.41, Val acc: 94.05%.\n",
      "\n",
      "Epoch 270/500, Training Loss: 3072.16, Val loss: 12203.18, Val acc: 93.95%.\n",
      "\n",
      "Epoch 280/500, Training Loss: 3054.65, Val loss: 11832.48, Val acc: 94.05%.\n",
      "\n",
      "Epoch 290/500, Training Loss: 3180.42, Val loss: 11689.96, Val acc: 94.20%.\n",
      "\n",
      "Epoch 300/500, Training Loss: 2320.19, Val loss: 11583.65, Val acc: 94.25%.\n",
      "\n",
      "Epoch 310/500, Training Loss: 2802.98, Val loss: 11418.93, Val acc: 94.30%.\n",
      "\n",
      "Epoch 320/500, Training Loss: 3804.81, Val loss: 11241.59, Val acc: 94.60%.\n",
      "\n",
      "Epoch 330/500, Training Loss: 3211.54, Val loss: 11201.56, Val acc: 94.40%.\n",
      "\n",
      "Epoch 340/500, Training Loss: 2758.69, Val loss: 11186.29, Val acc: 94.60%.\n",
      "\n",
      "Epoch 350/500, Training Loss: 2803.24, Val loss: 11148.72, Val acc: 94.75%.\n",
      "\n",
      "Epoch 360/500, Training Loss: 2950.13, Val loss: 10559.62, Val acc: 94.80%.\n",
      "\n",
      "Epoch 370/500, Training Loss: 3230.83, Val loss: 10668.01, Val acc: 94.95%.\n",
      "\n",
      "Epoch 380/500, Training Loss: 2634.15, Val loss: 10657.75, Val acc: 94.70%.\n",
      "\n",
      "Epoch 390/500, Training Loss: 2347.46, Val loss: 10224.66, Val acc: 94.85%.\n",
      "\n",
      "Epoch 400/500, Training Loss: 2322.90, Val loss: 10460.86, Val acc: 94.80%.\n",
      "\n",
      "Epoch 410/500, Training Loss: 2962.17, Val loss: 10020.46, Val acc: 94.80%.\n",
      "\n",
      "Epoch 420/500, Training Loss: 1921.67, Val loss: 10406.12, Val acc: 95.05%.\n",
      "\n",
      "Epoch 430/500, Training Loss: 2785.01, Val loss: 10315.25, Val acc: 95.05%.\n",
      "\n",
      "Epoch 440/500, Training Loss: 2073.91, Val loss: 10104.77, Val acc: 94.95%.\n",
      "\n",
      "Epoch 450/500, Training Loss: 2187.45, Val loss: 9982.15, Val acc: 94.95%.\n",
      "\n",
      "Epoch 460/500, Training Loss: 2471.41, Val loss: 9920.12, Val acc: 95.25%.\n",
      "\n",
      "Epoch 470/500, Training Loss: 3026.61, Val loss: 10031.65, Val acc: 94.90%.\n",
      "\n",
      "Epoch 480/500, Training Loss: 2106.33, Val loss: 10196.77, Val acc: 95.10%.\n",
      "\n",
      "Epoch 490/500, Training Loss: 1790.31, Val loss: 9960.59, Val acc: 95.05%.\n",
      "\n"
     ]
    }
   ],
   "source": [
    "# preprocess and decode\n",
    "net_002 =  NonlinearDecoder(num_features=H, num_classes=np.unique(y_val).shape[0], wt_stdev=0.1,beta=0.005,loss_exp=6)\n",
    "\n",
    "x_train = preprocess_nonlinear(x_train)\n",
    "x_val = preprocess_nonlinear(x_val)\n",
    "train_loss_hist_2, val_loss_hist_2, num_epochs_2 = net_002.fit(x_train, y_train, x_val=x_val, y_val=y_val, mini_batch_sz=512, lr=1e-4, max_epochs=500, patience=10, val_every=10,\n",
    "            verbose=True)"
   ]
  },
  {
   "cell_type": "code",
   "execution_count": 58,
   "id": "b7f20991-d154-467b-84f8-cd8a09662653",
   "metadata": {},
   "outputs": [
    {
     "name": "stderr",
     "output_type": "stream",
     "text": [
      "C:\\Users\\wenmu\\AppData\\Local\\Temp\\ipykernel_26320\\2888732660.py:23: UserWarning: FixedFormatter should only be used together with FixedLocator\n",
      "  axes.set_xticklabels(axes.get_xticks(), rotation=0)\n"
     ]
    },
    {
     "data": {
      "image/png": "[encoded data removed]",
      "text/plain": [
       "<Figure size 648x648 with 1 Axes>"
      ]
     },
     "metadata": {
      "needs_background": "light"
     },
     "output_type": "display_data"
    }
   ],
   "source": [
    "plot_train_valid_loss(train_loss_hist_2, val_loss_hist_2, acc_freq=10, n_samps=x_train.shape[0], batch_sz=512)"
   ]
  },
  {
   "cell_type": "code",
   "execution_count": null,
   "id": "11dfc301-505e-4162-83bc-60517a5ddaed",
   "metadata": {},
   "outputs": [],
   "source": [
    "net_001 = SoftmaxDecoder(num_features=H, num_classes=np.unique(y_val).shape[0], wt_stdev=0.1)\n",
    "train_loss_hist, val_loss_hist, num_epochs = net_001.fit(x_train, y_train, x_val=x_val, y_val=y_val, \n",
    "                                                         mini_batch_sz=512, lr=1e-4, max_epochs=500, \n",
    "                                                         patience=10, val_every=10, verbose=True)\n",
    "\n",
    "net_002 =  NonlinearDecoder(num_features=H, num_classes=np.unique(y_val).shape[0], wt_stdev=0.1,\n",
    "                            beta=0.005,loss_exp=6)\n",
    "x_train = preprocess_nonlinear(x_train)\n",
    "x_val = preprocess_nonlinear(x_val)\n",
    "train_loss_hist_2, val_loss_hist_2, num_epochs_2 = net_002.fit(x_train, y_train, x_val=x_val, y_val=y_val, \n",
    "                                                               mini_batch_sz=512, lr=1e-4, max_epochs=500, \n",
    "                                                               patience=10, val_every=10, verbose=True)"
   ]
  },
  {
   "cell_type": "markdown",
   "id": "d25a8f90",
   "metadata": {},
   "source": [
    "### 5d. Questions\n",
    "\n",
    "**Question 9:** Reflect on the relative performance of the linear and nonlinear decoders. In at least one paragraph, compare and contrast pros/cons. \n",
    "\n",
    "**Question 10:** Explain your reasoning for picking the hyperparameters that you did for either decoder.\n",
    "\n",
    "**Question 11:** Which decoder requires more epochs to train until the validation loss/accuracy plateaus? Why do you think that is?"
   ]
  },
  {
   "cell_type": "markdown",
   "id": "8497652f",
   "metadata": {},
   "source": [
    "**Answer 9:** \n",
    "<br> When we use the Softmax (linear) decoder, the validation loss tend to be very close to the training loss; but the validation accuracy can not get much higher than 89%.\n",
    "<br> When we use the Nonlinear decoder, the validation loss is always higher than the training loss; but the validation accuracy can get to 95% much faster than when we use the Softmax decoder.\n",
    "\n",
    "**Answer 10:** \n",
    "<br> For both the linear and non-linear decoders, we set:\n",
    "<br> - wt_stdev = 0.1 (default)\n",
    "<br> - mini batch size = 512 (default)\n",
    "<br> - learning rate = 1 x 10^-4 (default) --- The Adam optimizer should be able to adjust the learning rate, so we can set the learning rate to be a small number.\n",
    "<br> - max epoch = 500 --- The validation accuracy changes very slowly after 500 epochs, so, to save time, we set the maximum number of epochs to be 500.\n",
    "<br> - patience = 10 --- This patience value is relatively high, thus making sure that the learning process will not terminate until the loss plateaus (or the maximum number of epochs has been reached).\n",
    "<br> - val_every = 10 --- the validation loss and accuracy are computed every 10 epochs, preventing the fit method from computing validation loss/accuracy too frequently.\n",
    "\n",
    "**Answer 11:**\n",
    "<br> The nonlinear decoder requires more epochs to train until the validation loss/accuracy plateaus. This is because the nonlinear network activation function created more variation in the netAct values (by using the tanh(x) function), the nonlinear decoder also amplified the loss by the \"loss exponent\", making the losses significantly larger than the linear decoder.\n",
    "<br> As a result, the nonlinear decoder takes longer to converge; but it will eventually achieve better accuracy than the linear decoder."
   ]
  },
  {
   "cell_type": "markdown",
   "id": "401d51b1",
   "metadata": {},
   "source": [
    "## Extensions"
   ]
  },
  {
   "cell_type": "markdown",
   "id": "cb0665b5",
   "metadata": {},
   "source": [
    "### 0. Compare encoder-decoder model to end-to-end training\n",
    "\n",
    "Compare how accurately the linear and nonlinear decoders learn from raw MNIST samples compared to from the Hebbian network activations (*I would suggest keeping hyperparameters constant for a fair comparison*). There is a lot to explore here! Here are a few questions to examine:\n",
    "- How rapidly the decoders networks learn their inputs (e.g. number of training epochs needed to achieve \"good\" accuracy on the validation set)?\n",
    "- What is the best test accuracy achieved by the decoders networks with the same hyperparameters?\n",
    "- How does the decoder training times compare with the Hebbian inputs vs raw MNIST samples to achieve some level of accuracy?\n",
    "- Remember that you control the dimension of the \"embedding\" performed by the Hebbian network (i.e. number of neurons in the net). How does the accuracy and/or training time of the decoders trade off with the Hebbian network embedding size?"
   ]
  },
  {
   "cell_type": "markdown",
   "id": "189c8757",
   "metadata": {},
   "source": [
    "### 1. Use your CS 343 Softmax network as the linear decoder\n",
    "\n",
    "This will require a few updates to support the Adam optimizer (that you implemented in the CS 343 CNN project) and validation sets.\n",
    "\n",
    "Copy `softmax_layer.py` from your CS343 MLP project to your working directory. Also copy `optimizer.py` from your CS343 CNN project.\n",
    "\n",
    "Make the following changes to `fit()` in `softmax_layer.py`:\n",
    "1. Switch your optimizer from SGD to Adam. This will involve creating two `Adam` objects: one for the weights, one for the bias. Also, be sure to set the Adam learning rate based on the value passed into `fit()`.\n",
    "2. Add support in `fit()` for a validation set by adding the keyword arguments: `x_val=None, y_val=None`. If `verbose > 0` print out the accuracy and loss over the entire validation set. \n",
    "3. If `verbose > 0` convert your print outs to happen in terms of epochs rather than iterations (e.g. every epoch, not every 100 iterations). Add a keyword argument `val_freq=50` to specify how often (in epochs) to check and print out the validation accuracy and loss. Be sure to always print out the validation accuracy and loss on the first and last epoch regardless of the `val_freq` value.\n",
    "4. Have `fit()` return both the train and validation loss as Python lists or ndarrays. In cases when you do not pass in a validation set, the returned validation loss list may be `None` and that's ok.\n",
    "\n",
    "The network should train similarily to your Tensorflow version. Compare/analyze runtime performance."
   ]
  },
  {
   "cell_type": "markdown",
   "id": "4d18af83",
   "metadata": {},
   "source": [
    "### 2. Encode an image dataset of your choice with the Hebbian network\n",
    "\n",
    "For example, Fashion MNIST, STL-10 or CIFAR-10. If your images contain color, I suggest either converting to grayscale or flattening the color channels when constructing your feature vectors (e.g. `(32, 32, 3)` color image made into a `(3072,)` vector). Note that color images will clearly take much longer to train.\n",
    "\n",
    "Some areas to explore:\n",
    "- Visualize the weights. Analyze how hyperparameters affect the structure.\n",
    "- Compare decoding accuracy\n"
   ]
  },
  {
   "cell_type": "markdown",
   "id": "f131579c",
   "metadata": {},
   "source": [
    "### 3. Learning rate decay\n",
    "\n",
    "Krotov & Hopfield (2019) decayed the learning rate according to a epoch-based schedule for both the Hebbian network and the decoder (see their Appendix B for details). Implement this or your own variant (for either encoder and/or decoder network) and explore whether it improves decoding performance."
   ]
  },
  {
   "cell_type": "markdown",
   "id": "e8a9301a",
   "metadata": {},
   "source": [
    "### 4. Hyperparameter tuning\n",
    "\n",
    "Use a grid or random search for encoder and/decoder networks to optimize performance.\n",
    "\n",
    "How does the number of \"runner-up\" neurons in the Hebbian network ($K$) influence the learned weights (visually) or the accuracy with which either decoding network decodes the correct digit?"
   ]
  },
  {
   "cell_type": "markdown",
   "id": "1def3c63",
   "metadata": {},
   "source": [
    "### 5. Visualize Hebbian network activations\n",
    "\n",
    "- Develop a way to visualize and gain a better intuition about how a Hebbian neuron's learned weights contribute to the activation across the network. One idea is to normalize each neuron's learned weights between [0, 1] (or in a way that preserves negative wts) after training. Then to visualize the contributions for a given sample `i`, scale each neuron's weights by the its netIn value to sample `i`. Draw the scaled weights using `draw_grid_image`. It might be helpful to do this for a Hebbian network with a smaller number of neurons so that you can legibly plot every neuron's weights in one plot. Analyze/interpret the relationship between this weight plot and the decoded predictions.\n",
    "- Figure out how to record the \"live\" Hebbian training weight plots into videos for later viewing.\n",
    "\n",
    "This are only two ideas — try out other ideas that come to mind!"
   ]
  },
  {
   "cell_type": "markdown",
   "id": "dd4ead03",
   "metadata": {},
   "source": [
    "### 6. Confusion matrix and error analysis of MNIST classification\n",
    "\n",
    "For one or both classifier, make a confusion matrix of the digit classifications. Use your confusion matrix to gain insight into misclassifications. Run follow-up analyses/training sessions to explore patterns in more depth. For example, if two classes are frequently misclassified, how neurons in the Hebbian network develop receptive fields that resemble each? Are the weights resembling the two classes strongly correlated (and how?)? To what degree are inhibitory weights learned for these neurons? What happens if you train the Hebbian network on only samples belonging to the two classes — do classes of either class become less/more confusable? And so forth..."
   ]
  },
  {
   "cell_type": "markdown",
   "id": "f9d6df91",
   "metadata": {},
   "source": [
    "### 7. Hebbian network in TensorFlow\n",
    "\n",
    "Implement the Hebbian network using TensorFlow rather than Numpy. Quantify/compare the runtime performance of each version.\n",
    "\n",
    "Notes: \n",
    "- Run your analysis for different mini-batch sizes. Start small, but try a wide range of sizes make sure your computer can handle the values you select. The TensorFlow version may only be faster for certain mini-batch sizes.\n",
    "- You probably will notice the biggest difference if you have GPU accelerated TensorFlow working on your computer."
   ]
  },
  {
   "cell_type": "markdown",
   "id": "492e880a",
   "metadata": {},
   "source": [
    "### 8. Implement the Generalized Hebbian Algorithm (GHA) and compare to PCA\n",
    "\n",
    "The GHA provides an incremental version of PCA — compute PCA one sample at a time over a number of training epochs. This approach can be helpful when you want to run PCA on a large dataset, but the dataset is too large to fit in your computer's memory (e.g. perhaps STL-10 at full 96x96 resolution). \n",
    "\n",
    "Implement GHA then show for a large dataset (e.g. STL-10) that GHA computes the PCA representation, whereas regular PCA (e.g. from CS251/2) fails. Plot what the image samples look like over training epochs when projected to PCA space and then back to the original data space (i.e. filtered by the learned principle components / network weights). If this sounds interesting, please see me for guidance."
   ]
  },
  {
   "cell_type": "markdown",
   "id": "2b82baa8",
   "metadata": {},
   "source": [
    "### 9. Experiment with different decoder architectures\n",
    "\n",
    "Create one or more different nonlinear decoders in TensorFlow (e.g. MLP, CNN). Compare performance/accuracy with the nonlinear one in the project."
   ]
  },
  {
   "cell_type": "markdown",
   "id": "0397f133",
   "metadata": {},
   "source": [
    "### 10. Tuning Hebbian network\n",
    "\n",
    "Experiment with how the Hebbian network hyperparameters (number of neurons, which neuron gets inhibited, inhibition strength, etc.) affect encoding of the MNIST digits and decoding accuracy."
   ]
  }
 ],
 "metadata": {
  "kernelspec": {
   "display_name": "Python 3 (ipykernel)",
   "language": "python",
   "name": "python3"
  },
  "language_info": {
   "codemirror_mode": {
    "name": "ipython",
    "version": 3
   },
   "file_extension": ".py",
   "mimetype": "text/x-python",
   "name": "python",
   "nbconvert_exporter": "python",
   "pygments_lexer": "ipython3",
   "version": "3.9.1"
  },
  "vscode": {
   "interpreter": {
    "hash": "aee8b7b246df8f9039afb4144a1f6fd8d2ca17a180786b69acc140d282b71a49"
   }
  }
 },
 "nbformat": 4,
 "nbformat_minor": 5
}
