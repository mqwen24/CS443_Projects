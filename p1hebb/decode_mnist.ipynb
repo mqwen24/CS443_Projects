{
 "cells": [
  {
   "cell_type": "markdown",
   "id": "6083f220",
   "metadata": {},
   "source": [
    "**Muqing Wen, Leo Qian**\n",
    "\n",
    "Spring 2023\n",
    "\n",
    "CS 443: Bio-inspired Machine Learning\n",
    "\n",
    "#### Week 3: Train decoders to classify MNIST from Hebbian network activations\n",
    "\n",
    "# Project 1: Hebbian Learning\n",
    "\n",
    "You will use your linear and nonlinear decoders to predict the digit classification accuracy on MNIST based on the learned Hebbian representation (i.e. weights) that you saved last week."
   ]
  },
  {
   "cell_type": "code",
   "execution_count": 1,
   "id": "81130992",
   "metadata": {},
   "outputs": [
    {
     "ename": "OSError",
     "evalue": "'seaborn-v0_8-colorblind' not found in the style library and input is not a valid URL or path; see `style.available` for list of available styles",
     "output_type": "error",
     "traceback": [
      "\u001B[0;31m---------------------------------------------------------------------------\u001B[0m",
      "\u001B[0;31mFileNotFoundError\u001B[0m                         Traceback (most recent call last)",
      "File \u001B[0;32m~/miniforge3/lib/python3.10/site-packages/matplotlib/style/core.py:127\u001B[0m, in \u001B[0;36muse\u001B[0;34m(style)\u001B[0m\n\u001B[1;32m    126\u001B[0m \u001B[38;5;28;01mtry\u001B[39;00m:\n\u001B[0;32m--> 127\u001B[0m     rc \u001B[38;5;241m=\u001B[39m \u001B[43mrc_params_from_file\u001B[49m\u001B[43m(\u001B[49m\u001B[43mstyle\u001B[49m\u001B[43m,\u001B[49m\u001B[43m \u001B[49m\u001B[43muse_default_template\u001B[49m\u001B[38;5;241;43m=\u001B[39;49m\u001B[38;5;28;43;01mFalse\u001B[39;49;00m\u001B[43m)\u001B[49m\n\u001B[1;32m    128\u001B[0m     _apply_style(rc)\n",
      "File \u001B[0;32m~/miniforge3/lib/python3.10/site-packages/matplotlib/__init__.py:854\u001B[0m, in \u001B[0;36mrc_params_from_file\u001B[0;34m(fname, fail_on_error, use_default_template)\u001B[0m\n\u001B[1;32m    840\u001B[0m \u001B[38;5;124;03m\"\"\"\u001B[39;00m\n\u001B[1;32m    841\u001B[0m \u001B[38;5;124;03mConstruct a `RcParams` from file *fname*.\u001B[39;00m\n\u001B[1;32m    842\u001B[0m \n\u001B[0;32m   (...)\u001B[0m\n\u001B[1;32m    852\u001B[0m \u001B[38;5;124;03m    parameters specified in the file. (Useful for updating dicts.)\u001B[39;00m\n\u001B[1;32m    853\u001B[0m \u001B[38;5;124;03m\"\"\"\u001B[39;00m\n\u001B[0;32m--> 854\u001B[0m config_from_file \u001B[38;5;241m=\u001B[39m \u001B[43m_rc_params_in_file\u001B[49m\u001B[43m(\u001B[49m\u001B[43mfname\u001B[49m\u001B[43m,\u001B[49m\u001B[43m \u001B[49m\u001B[43mfail_on_error\u001B[49m\u001B[38;5;241;43m=\u001B[39;49m\u001B[43mfail_on_error\u001B[49m\u001B[43m)\u001B[49m\n\u001B[1;32m    856\u001B[0m \u001B[38;5;28;01mif\u001B[39;00m \u001B[38;5;129;01mnot\u001B[39;00m use_default_template:\n",
      "File \u001B[0;32m~/miniforge3/lib/python3.10/site-packages/matplotlib/__init__.py:780\u001B[0m, in \u001B[0;36m_rc_params_in_file\u001B[0;34m(fname, transform, fail_on_error)\u001B[0m\n\u001B[1;32m    779\u001B[0m rc_temp \u001B[38;5;241m=\u001B[39m {}\n\u001B[0;32m--> 780\u001B[0m \u001B[38;5;28;01mwith\u001B[39;00m _open_file_or_url(fname) \u001B[38;5;28;01mas\u001B[39;00m fd:\n\u001B[1;32m    781\u001B[0m     \u001B[38;5;28;01mtry\u001B[39;00m:\n",
      "File \u001B[0;32m~/miniforge3/lib/python3.10/contextlib.py:135\u001B[0m, in \u001B[0;36m_GeneratorContextManager.__enter__\u001B[0;34m(self)\u001B[0m\n\u001B[1;32m    134\u001B[0m \u001B[38;5;28;01mtry\u001B[39;00m:\n\u001B[0;32m--> 135\u001B[0m     \u001B[38;5;28;01mreturn\u001B[39;00m \u001B[38;5;28;43mnext\u001B[39;49m\u001B[43m(\u001B[49m\u001B[38;5;28;43mself\u001B[39;49m\u001B[38;5;241;43m.\u001B[39;49m\u001B[43mgen\u001B[49m\u001B[43m)\u001B[49m\n\u001B[1;32m    136\u001B[0m \u001B[38;5;28;01mexcept\u001B[39;00m \u001B[38;5;167;01mStopIteration\u001B[39;00m:\n",
      "File \u001B[0;32m~/miniforge3/lib/python3.10/site-packages/matplotlib/__init__.py:757\u001B[0m, in \u001B[0;36m_open_file_or_url\u001B[0;34m(fname)\u001B[0m\n\u001B[1;32m    756\u001B[0m     encoding \u001B[38;5;241m=\u001B[39m \u001B[38;5;124m\"\u001B[39m\u001B[38;5;124mutf-8\u001B[39m\u001B[38;5;124m\"\u001B[39m\n\u001B[0;32m--> 757\u001B[0m \u001B[38;5;28;01mwith\u001B[39;00m \u001B[38;5;28;43mopen\u001B[39;49m\u001B[43m(\u001B[49m\u001B[43mfname\u001B[49m\u001B[43m,\u001B[49m\u001B[43m \u001B[49m\u001B[43mencoding\u001B[49m\u001B[38;5;241;43m=\u001B[39;49m\u001B[43mencoding\u001B[49m\u001B[43m)\u001B[49m \u001B[38;5;28;01mas\u001B[39;00m f:\n\u001B[1;32m    758\u001B[0m     \u001B[38;5;28;01myield\u001B[39;00m f\n",
      "\u001B[0;31mFileNotFoundError\u001B[0m: [Errno 2] No such file or directory: 'seaborn-v0_8-colorblind'",
      "\nThe above exception was the direct cause of the following exception:\n",
      "\u001B[0;31mOSError\u001B[0m                                   Traceback (most recent call last)",
      "Cell \u001B[0;32mIn [1], line 11\u001B[0m\n\u001B[1;32m      8\u001B[0m \u001B[38;5;28;01mfrom\u001B[39;00m \u001B[38;5;21;01mmnist\u001B[39;00m \u001B[38;5;28;01mimport\u001B[39;00m get_mnist\n\u001B[1;32m      9\u001B[0m \u001B[38;5;28;01mfrom\u001B[39;00m \u001B[38;5;21;01mhebb_net\u001B[39;00m \u001B[38;5;28;01mimport\u001B[39;00m HebbNet\n\u001B[0;32m---> 11\u001B[0m \u001B[43mplt\u001B[49m\u001B[38;5;241;43m.\u001B[39;49m\u001B[43mstyle\u001B[49m\u001B[38;5;241;43m.\u001B[39;49m\u001B[43muse\u001B[49m\u001B[43m(\u001B[49m\u001B[43m[\u001B[49m\u001B[38;5;124;43m'\u001B[39;49m\u001B[38;5;124;43mseaborn-v0_8-colorblind\u001B[39;49m\u001B[38;5;124;43m'\u001B[39;49m\u001B[43m,\u001B[49m\u001B[43m \u001B[49m\u001B[38;5;124;43m'\u001B[39;49m\u001B[38;5;124;43mseaborn-v0_8-darkgrid\u001B[39;49m\u001B[38;5;124;43m'\u001B[39;49m\u001B[43m]\u001B[49m\u001B[43m)\u001B[49m\n\u001B[1;32m     12\u001B[0m plt\u001B[38;5;241m.\u001B[39mshow()\n\u001B[1;32m     13\u001B[0m plt\u001B[38;5;241m.\u001B[39mrcParams\u001B[38;5;241m.\u001B[39mupdate({\u001B[38;5;124m'\u001B[39m\u001B[38;5;124mfont.size\u001B[39m\u001B[38;5;124m'\u001B[39m: \u001B[38;5;241m18\u001B[39m})\n",
      "File \u001B[0;32m~/miniforge3/lib/python3.10/site-packages/matplotlib/style/core.py:130\u001B[0m, in \u001B[0;36muse\u001B[0;34m(style)\u001B[0m\n\u001B[1;32m    128\u001B[0m     _apply_style(rc)\n\u001B[1;32m    129\u001B[0m \u001B[38;5;28;01mexcept\u001B[39;00m \u001B[38;5;167;01mIOError\u001B[39;00m \u001B[38;5;28;01mas\u001B[39;00m err:\n\u001B[0;32m--> 130\u001B[0m     \u001B[38;5;28;01mraise\u001B[39;00m \u001B[38;5;167;01mIOError\u001B[39;00m(\n\u001B[1;32m    131\u001B[0m         \u001B[38;5;124m\"\u001B[39m\u001B[38;5;132;01m{!r}\u001B[39;00m\u001B[38;5;124m not found in the style library and input is not a \u001B[39m\u001B[38;5;124m\"\u001B[39m\n\u001B[1;32m    132\u001B[0m         \u001B[38;5;124m\"\u001B[39m\u001B[38;5;124mvalid URL or path; see `style.available` for list of \u001B[39m\u001B[38;5;124m\"\u001B[39m\n\u001B[1;32m    133\u001B[0m         \u001B[38;5;124m\"\u001B[39m\u001B[38;5;124mavailable styles\u001B[39m\u001B[38;5;124m\"\u001B[39m\u001B[38;5;241m.\u001B[39mformat(style)) \u001B[38;5;28;01mfrom\u001B[39;00m \u001B[38;5;21;01merr\u001B[39;00m\n",
      "\u001B[0;31mOSError\u001B[0m: 'seaborn-v0_8-colorblind' not found in the style library and input is not a valid URL or path; see `style.available` for list of available styles"
     ]
    }
   ],
   "source": [
    "import numpy as np\n",
    "import matplotlib.pyplot as plt\n",
    "import pandas as pd\n",
    "import tensorflow as tf\n",
    "\n",
    "import time\n",
    "\n",
    "from mnist import get_mnist\n",
    "from hebb_net import HebbNet\n",
    "\n",
    "plt.style.use(['seaborn-v0_8-colorblind', 'seaborn-v0_8-darkgrid'])\n",
    "plt.show()\n",
    "plt.rcParams.update({'font.size': 18})\n",
    "\n",
    "np.set_printoptions(suppress=True, precision=3)\n",
    "\n",
    "%load_ext autoreload\n",
    "%autoreload 2"
   ]
  },
  {
   "cell_type": "markdown",
   "id": "90f46184",
   "metadata": {},
   "source": [
    "## Task 5: Train and test decoders on MNIST"
   ]
  },
  {
   "cell_type": "markdown",
   "id": "73b6a636",
   "metadata": {},
   "source": [
    "### 5a. Preparing decoder inputs\n",
    "\n",
    "In the cell below:\n",
    "- load the raw MNIST train/test/validation samples. Reserve 2000 training samples for validation.\n",
    "- process them with your the Hebbian network (i.e. compute their corresponding netIn values) to get the input for your decoders.\n",
    "- Cast each of the train/test/validation values to the `tf.float32` datatype.\n",
    "\n",
    "**Tips:**\n",
    "- Your Hebbian network constructor has a keyword argument that you can use to load wts from a previously trained network. You should not need to retrain your Hebbian network!\n",
    "- When creating your Hebbian network object, remember to build it with the same hyperparameters as you did last week (e.g. number of neurons)."
   ]
  },
  {
   "cell_type": "code",
   "execution_count": 22,
   "id": "dbe9201d",
   "metadata": {},
   "outputs": [],
   "source": [
    "x_train, y_train, x_test, y_test, x_val, y_val = get_mnist(2000)\n",
    "\n",
    "y_train = tf.Variable(y_train,dtype=tf.int64)\n",
    "x_test = tf.Variable(x_test,dtype=tf.float32)\n",
    "y_test = tf.Variable(y_test,dtype=tf.int64)\n",
    "y_val = tf.Variable(y_val,dtype=tf.int64)\n",
    "\n",
    "M = x_train.shape[1]\n",
    "H = 500\n",
    "net = HebbNet(M, H, kth_place_inhibited=6, load_wts=True)\n",
    "\n",
    "x_train = net.net_in(x_train)\n",
    "x_val = net.net_in(x_val)\n",
    "\n",
    "x_train = tf.Variable(x_train,dtype=tf.float32)\n",
    "x_val = tf.Variable(x_val,dtype=tf.float32)"
   ]
  },
  {
   "cell_type": "markdown",
   "id": "de17596a",
   "metadata": {},
   "source": [
    "### 5b. Linear decoder\n",
    "\n",
    "Train your softmax classifier on the Hebbian network `net_in` activations obtained from processing the MNIST training set. The hyperparameters are up to you, but you should generally make principled choices (see question below).\n",
    "\n",
    "#### Guidelines\n",
    "\n",
    "- Training should be fairly quick (no more than a few minutes).\n",
    "- Make use of the validation set to monitor progress while training.\n",
    "- **Remember:** you are **NOT** training the softmax classifier **on MNIST** — you are training it on the `net_in` values produced by the Hebbian network that you trained above!\n",
    "- Checking the validation accuracy too frequently will slow down training, but if you check too infrequently you won't know what's going on.\n",
    "\n",
    "\n",
    "#### Results\n",
    "\n",
    "Here are the items that you should report in the cell(s) below:\n",
    "\n",
    "- Accuracy of the softmax classifier on the test set.\n",
    "- Create a well-labeled plot showing the training and validation loss over epochs (*note: because you likely did not check validation loss on each epoch, but \"x\" epoch values for each loss will likely be different. Account for this when generating \"x\" values used in the plot.*)."
   ]
  },
  {
   "cell_type": "code",
   "execution_count": 23,
   "id": "1b5020bd",
   "metadata": {},
   "outputs": [],
   "source": [
    "from neural_decoder import SoftmaxDecoder"
   ]
  },
  {
   "cell_type": "code",
   "execution_count": 24,
   "id": "38c41ec9",
   "metadata": {},
   "outputs": [],
   "source": [
    "net_001 = SoftmaxDecoder(num_features=H, num_classes=np.unique(y_val).shape[0], wt_stdev=0.1)"
   ]
  },
  {
   "cell_type": "code",
   "execution_count": 25,
   "id": "279db83b",
   "metadata": {},
   "outputs": [
    {
     "name": "stdout",
     "output_type": "stream",
     "text": [
      "Starting to train network ....\n",
      "Epoch 0/5000, Training Loss: 17.06, Val loss: 26.62, Val acc: 11.70%.\n",
      "\n",
      "Epoch 10/5000, Training Loss: 0.83, Val loss: 1.21, Val acc: 75.70%.\n",
      "\n",
      "Epoch 20/5000, Training Loss: 0.62, Val loss: 0.90, Val acc: 82.35%.\n",
      "\n",
      "Epoch 30/5000, Training Loss: 0.50, Val loss: 0.77, Val acc: 84.75%.\n",
      "\n",
      "Epoch 40/5000, Training Loss: 0.47, Val loss: 0.70, Val acc: 86.65%.\n",
      "\n",
      "Epoch 50/5000, Training Loss: 0.40, Val loss: 0.67, Val acc: 87.70%.\n",
      "\n",
      "Epoch 60/5000, Training Loss: 0.40, Val loss: 0.64, Val acc: 87.55%.\n",
      "\n",
      "Epoch 70/5000, Training Loss: 0.38, Val loss: 0.62, Val acc: 87.95%.\n",
      "\n",
      "Epoch 80/5000, Training Loss: 0.39, Val loss: 0.60, Val acc: 88.25%.\n",
      "\n",
      "Epoch 90/5000, Training Loss: 0.39, Val loss: 0.59, Val acc: 88.55%.\n",
      "\n",
      "Epoch 100/5000, Training Loss: 0.39, Val loss: 0.58, Val acc: 88.80%.\n",
      "\n",
      "Epoch 110/5000, Training Loss: 0.41, Val loss: 0.56, Val acc: 89.15%.\n",
      "\n",
      "Epoch 120/5000, Training Loss: 0.39, Val loss: 0.57, Val acc: 88.80%.\n",
      "\n",
      "Epoch 130/5000, Training Loss: 0.41, Val loss: 0.55, Val acc: 88.90%.\n",
      "\n",
      "Epoch 140/5000, Training Loss: 0.32, Val loss: 0.56, Val acc: 89.10%.\n",
      "\n",
      "Epoch 150/5000, Training Loss: 0.37, Val loss: 0.55, Val acc: 89.40%.\n",
      "\n",
      "Epoch 160/5000, Training Loss: 0.41, Val loss: 0.53, Val acc: 89.50%.\n",
      "\n",
      "Epoch 170/5000, Training Loss: 0.35, Val loss: 0.53, Val acc: 89.65%.\n",
      "\n",
      "Epoch 180/5000, Training Loss: 0.34, Val loss: 0.52, Val acc: 90.00%.\n",
      "\n",
      "Epoch 190/5000, Training Loss: 0.32, Val loss: 0.52, Val acc: 89.85%.\n",
      "\n",
      "Epoch 200/5000, Training Loss: 0.35, Val loss: 0.51, Val acc: 90.35%.\n",
      "\n",
      "Epoch 210/5000, Training Loss: 0.33, Val loss: 0.52, Val acc: 89.65%.\n",
      "\n",
      "Epoch 220/5000, Training Loss: 0.40, Val loss: 0.51, Val acc: 90.20%.\n",
      "\n",
      "Epoch 230/5000, Training Loss: 0.33, Val loss: 0.51, Val acc: 90.25%.\n",
      "\n",
      "Epoch 240/5000, Training Loss: 0.43, Val loss: 0.51, Val acc: 89.90%.\n",
      "\n",
      "Epoch 250/5000, Training Loss: 0.33, Val loss: 0.51, Val acc: 90.30%.\n",
      "\n",
      "Epoch 260/5000, Training Loss: 0.40, Val loss: 0.50, Val acc: 89.95%.\n",
      "\n",
      "Epoch 270/5000, Training Loss: 0.29, Val loss: 0.51, Val acc: 90.15%.\n",
      "\n",
      "Epoch 280/5000, Training Loss: 0.28, Val loss: 0.49, Val acc: 90.30%.\n",
      "\n",
      "Epoch 290/5000, Training Loss: 0.23, Val loss: 0.50, Val acc: 90.45%.\n",
      "\n",
      "Epoch 300/5000, Training Loss: 0.35, Val loss: 0.49, Val acc: 90.70%.\n",
      "\n",
      "Epoch 310/5000, Training Loss: 0.36, Val loss: 0.50, Val acc: 90.15%.\n",
      "\n",
      "Epoch 320/5000, Training Loss: 0.35, Val loss: 0.49, Val acc: 90.55%.\n",
      "\n",
      "Epoch 330/5000, Training Loss: 0.33, Val loss: 0.49, Val acc: 90.70%.\n",
      "\n",
      "Epoch 340/5000, Training Loss: 0.37, Val loss: 0.49, Val acc: 90.30%.\n",
      "\n",
      "Epoch 350/5000, Training Loss: 0.44, Val loss: 0.49, Val acc: 90.45%.\n",
      "\n",
      "Epoch 360/5000, Training Loss: 0.34, Val loss: 0.49, Val acc: 90.55%.\n",
      "\n",
      "Epoch 370/5000, Training Loss: 0.34, Val loss: 0.48, Val acc: 90.55%.\n",
      "\n",
      "Epoch 380/5000, Training Loss: 0.32, Val loss: 0.48, Val acc: 90.75%.\n",
      "\n",
      "Epoch 390/5000, Training Loss: 0.27, Val loss: 0.49, Val acc: 90.40%.\n",
      "\n",
      "Epoch 400/5000, Training Loss: 0.40, Val loss: 0.48, Val acc: 90.50%.\n",
      "\n",
      "Epoch 410/5000, Training Loss: 0.34, Val loss: 0.48, Val acc: 90.50%.\n",
      "\n",
      "Epoch 420/5000, Training Loss: 0.33, Val loss: 0.47, Val acc: 90.90%.\n",
      "\n",
      "Epoch 430/5000, Training Loss: 0.26, Val loss: 0.48, Val acc: 90.55%.\n",
      "\n",
      "Epoch 440/5000, Training Loss: 0.34, Val loss: 0.47, Val acc: 90.90%.\n",
      "\n",
      "Epoch 450/5000, Training Loss: 0.27, Val loss: 0.47, Val acc: 90.75%.\n",
      "\n",
      "Epoch 460/5000, Training Loss: 0.34, Val loss: 0.47, Val acc: 90.80%.\n",
      "\n",
      "Epoch 470/5000, Training Loss: 0.32, Val loss: 0.47, Val acc: 90.55%.\n",
      "\n",
      "Epoch 480/5000, Training Loss: 0.27, Val loss: 0.47, Val acc: 90.45%.\n",
      "\n",
      "Epoch 490/5000, Training Loss: 0.34, Val loss: 0.47, Val acc: 90.75%.\n",
      "\n",
      "Epoch 500/5000, Training Loss: 0.26, Val loss: 0.47, Val acc: 90.90%.\n",
      "\n",
      "Epoch 510/5000, Training Loss: 0.31, Val loss: 0.47, Val acc: 91.00%.\n",
      "\n",
      "Epoch 520/5000, Training Loss: 0.33, Val loss: 0.47, Val acc: 90.80%.\n",
      "\n",
      "Epoch 530/5000, Training Loss: 0.32, Val loss: 0.47, Val acc: 90.85%.\n",
      "\n",
      "Epoch 540/5000, Training Loss: 0.32, Val loss: 0.46, Val acc: 91.05%.\n",
      "\n",
      "Epoch 550/5000, Training Loss: 0.30, Val loss: 0.46, Val acc: 90.90%.\n",
      "\n",
      "Epoch 560/5000, Training Loss: 0.34, Val loss: 0.47, Val acc: 90.80%.\n",
      "\n",
      "Epoch 570/5000, Training Loss: 0.35, Val loss: 0.46, Val acc: 90.85%.\n",
      "\n",
      "Epoch 580/5000, Training Loss: 0.31, Val loss: 0.46, Val acc: 91.30%.\n",
      "\n",
      "Epoch 590/5000, Training Loss: 0.25, Val loss: 0.47, Val acc: 90.65%.\n",
      "\n",
      "Epoch 600/5000, Training Loss: 0.33, Val loss: 0.46, Val acc: 90.95%.\n",
      "\n",
      "Epoch 610/5000, Training Loss: 0.25, Val loss: 0.46, Val acc: 90.90%.\n",
      "\n",
      "Epoch 620/5000, Training Loss: 0.29, Val loss: 0.46, Val acc: 90.60%.\n",
      "\n",
      "Epoch 630/5000, Training Loss: 0.38, Val loss: 0.47, Val acc: 90.50%.\n",
      "\n",
      "Epoch 640/5000, Training Loss: 0.34, Val loss: 0.46, Val acc: 90.95%.\n",
      "\n",
      "Epoch 650/5000, Training Loss: 0.32, Val loss: 0.46, Val acc: 90.65%.\n",
      "\n",
      "Epoch 660/5000, Training Loss: 0.31, Val loss: 0.46, Val acc: 90.70%.\n",
      "\n",
      "Epoch 670/5000, Training Loss: 0.32, Val loss: 0.46, Val acc: 90.80%.\n",
      "\n",
      "Epoch 680/5000, Training Loss: 0.31, Val loss: 0.46, Val acc: 91.05%.\n",
      "\n",
      "Epoch 690/5000, Training Loss: 0.32, Val loss: 0.45, Val acc: 91.05%.\n",
      "\n",
      "Epoch 700/5000, Training Loss: 0.33, Val loss: 0.46, Val acc: 90.60%.\n",
      "\n",
      "Epoch 710/5000, Training Loss: 0.33, Val loss: 0.46, Val acc: 91.25%.\n",
      "\n",
      "Epoch 720/5000, Training Loss: 0.30, Val loss: 0.46, Val acc: 91.00%.\n",
      "\n",
      "Epoch 730/5000, Training Loss: 0.33, Val loss: 0.46, Val acc: 90.85%.\n",
      "\n",
      "Epoch 740/5000, Training Loss: 0.35, Val loss: 0.46, Val acc: 91.20%.\n",
      "\n",
      "Epoch 750/5000, Training Loss: 0.36, Val loss: 0.45, Val acc: 91.35%.\n",
      "\n",
      "Epoch 760/5000, Training Loss: 0.35, Val loss: 0.46, Val acc: 90.85%.\n",
      "\n",
      "Epoch 770/5000, Training Loss: 0.32, Val loss: 0.46, Val acc: 90.85%.\n",
      "\n",
      "Epoch 780/5000, Training Loss: 0.34, Val loss: 0.45, Val acc: 91.10%.\n",
      "\n",
      "Epoch 790/5000, Training Loss: 0.25, Val loss: 0.45, Val acc: 91.55%.\n",
      "\n",
      "Epoch 800/5000, Training Loss: 0.22, Val loss: 0.45, Val acc: 91.05%.\n",
      "\n",
      "Epoch 810/5000, Training Loss: 0.39, Val loss: 0.46, Val acc: 90.90%.\n",
      "\n",
      "Epoch 820/5000, Training Loss: 0.28, Val loss: 0.45, Val acc: 91.05%.\n",
      "\n",
      "Epoch 830/5000, Training Loss: 0.33, Val loss: 0.45, Val acc: 91.00%.\n",
      "\n",
      "Epoch 840/5000, Training Loss: 0.36, Val loss: 0.45, Val acc: 91.05%.\n",
      "\n",
      "Epoch 850/5000, Training Loss: 0.41, Val loss: 0.45, Val acc: 91.20%.\n",
      "\n",
      "Epoch 860/5000, Training Loss: 0.26, Val loss: 0.46, Val acc: 90.95%.\n",
      "\n",
      "Epoch 870/5000, Training Loss: 0.31, Val loss: 0.45, Val acc: 91.30%.\n",
      "\n",
      "Epoch 880/5000, Training Loss: 0.31, Val loss: 0.45, Val acc: 91.35%.\n",
      "\n",
      "Epoch 890/5000, Training Loss: 0.24, Val loss: 0.45, Val acc: 90.85%.\n",
      "\n",
      "Epoch 900/5000, Training Loss: 0.39, Val loss: 0.45, Val acc: 91.15%.\n",
      "\n",
      "Epoch 910/5000, Training Loss: 0.25, Val loss: 0.45, Val acc: 91.55%.\n",
      "\n",
      "Epoch 920/5000, Training Loss: 0.36, Val loss: 0.45, Val acc: 91.65%.\n",
      "\n",
      "Epoch 930/5000, Training Loss: 0.36, Val loss: 0.45, Val acc: 91.00%.\n",
      "\n",
      "Epoch 940/5000, Training Loss: 0.24, Val loss: 0.45, Val acc: 91.35%.\n",
      "\n",
      "Epoch 950/5000, Training Loss: 0.21, Val loss: 0.45, Val acc: 90.75%.\n",
      "\n",
      "Epoch 960/5000, Training Loss: 0.36, Val loss: 0.45, Val acc: 90.75%.\n",
      "\n",
      "Epoch 970/5000, Training Loss: 0.33, Val loss: 0.45, Val acc: 91.05%.\n",
      "\n",
      "Epoch 980/5000, Training Loss: 0.30, Val loss: 0.45, Val acc: 91.45%.\n",
      "\n",
      "Epoch 990/5000, Training Loss: 0.31, Val loss: 0.45, Val acc: 91.35%.\n",
      "\n",
      "Epoch 1000/5000, Training Loss: 0.29, Val loss: 0.45, Val acc: 91.30%.\n",
      "\n",
      "Epoch 1010/5000, Training Loss: 0.33, Val loss: 0.45, Val acc: 91.15%.\n",
      "\n",
      "Epoch 1020/5000, Training Loss: 0.32, Val loss: 0.45, Val acc: 91.05%.\n",
      "\n",
      "Epoch 1030/5000, Training Loss: 0.32, Val loss: 0.45, Val acc: 90.95%.\n",
      "\n",
      "Epoch 1040/5000, Training Loss: 0.41, Val loss: 0.45, Val acc: 91.00%.\n",
      "\n",
      "Epoch 1050/5000, Training Loss: 0.33, Val loss: 0.45, Val acc: 91.30%.\n",
      "\n",
      "Epoch 1060/5000, Training Loss: 0.28, Val loss: 0.44, Val acc: 91.20%.\n",
      "\n",
      "Epoch 1070/5000, Training Loss: 0.30, Val loss: 0.45, Val acc: 91.30%.\n",
      "\n",
      "Epoch 1080/5000, Training Loss: 0.32, Val loss: 0.45, Val acc: 90.90%.\n",
      "\n",
      "Epoch 1090/5000, Training Loss: 0.35, Val loss: 0.45, Val acc: 91.00%.\n",
      "\n",
      "Epoch 1100/5000, Training Loss: 0.34, Val loss: 0.44, Val acc: 91.35%.\n",
      "\n",
      "Epoch 1110/5000, Training Loss: 0.37, Val loss: 0.44, Val acc: 91.35%.\n",
      "\n",
      "Epoch 1120/5000, Training Loss: 0.32, Val loss: 0.44, Val acc: 91.15%.\n",
      "\n",
      "Epoch 1130/5000, Training Loss: 0.30, Val loss: 0.45, Val acc: 91.05%.\n",
      "\n",
      "Epoch 1140/5000, Training Loss: 0.36, Val loss: 0.45, Val acc: 91.00%.\n",
      "\n",
      "Epoch 1150/5000, Training Loss: 0.39, Val loss: 0.45, Val acc: 91.15%.\n",
      "\n"
     ]
    }
   ],
   "source": [
    "train_loss_hist, val_loss_hist, num_epochs = net_001.fit(x_train, y_train, x_val=x_val, y_val=y_val, mini_batch_sz=512, lr=1e-4, max_epochs=5000, patience=10, val_every=10,\n",
    "            verbose=True)"
   ]
  },
  {
   "cell_type": "code",
   "execution_count": 26,
   "outputs": [],
   "source": [
    "def plot_multiple_loss(loss, labels, colors, title=\"Validation Loss\", acc_freq=None, n_samps=None,\n",
    "                       batch_sz=None):\n",
    "    x_list = []\n",
    "\n",
    "    for j in range(len(loss)):\n",
    "        temp_x_list = []\n",
    "        for i in range(len(loss[j])):\n",
    "            iteration = (i + 1) * acc_freq - 1\n",
    "            i_epoch = int(iteration / (n_samps / batch_sz))\n",
    "            temp_x_list.append(i_epoch)\n",
    "        x_list.append(temp_x_list)\n",
    "\n",
    "    fig, axes = plt.subplots(nrows=1, ncols=1, figsize=(9, 9))\n",
    "\n",
    "    for i in range(len(x_list)):\n",
    "        fmt = \".\" + colors[i] + \"-\"\n",
    "        axes.plot(x_list[i], loss[i], fmt, markersize=10, label=labels[i])\n",
    "\n",
    "    # Axes.set_xlabel(xlabel)\n",
    "    axes.set_xlabel(\"Training Epochs\")\n",
    "    axes.set_ylabel(\"Loss\")\n",
    "\n",
    "    # axes.set_xticks(x_list)\n",
    "    axes.set_xticklabels(axes.get_xticks(), rotation=0)\n",
    "\n",
    "    # frameon: Whether the legend should be drawn on a patch (frame).\n",
    "    axes.legend(loc=\"lower left\", bbox_to_anchor=(1, 0), frameon=True, edgecolor=\"black\")\n",
    "\n",
    "    axes.set_title(title)\n",
    "    plt.show()"
   ],
   "metadata": {
    "collapsed": false
   }
  },
  {
   "cell_type": "code",
   "execution_count": 28,
   "outputs": [
    {
     "name": "stderr",
     "output_type": "stream",
     "text": [
      "/var/folders/w9/cc58q4sx1_x2xvcygb70jn2w0000gp/T/ipykernel_13449/2315733700.py:24: UserWarning: FixedFormatter should only be used together with FixedLocator\n",
      "  axes.set_xticklabels(axes.get_xticks(), rotation=0)\n"
     ]
    },
    {
     "data": {
      "text/plain": "<Figure size 900x900 with 1 Axes>",
      "image/png": "[encoded data removed]"
     },
     "metadata": {},
     "output_type": "display_data"
    }
   ],
   "source": [
    "colors = ['r', 'b', 'k', 'm']\n",
    "plot_multiple_loss([train_loss_hist,val_loss_hist],[\"train_loss_hist\",\"val_loss_hist\"],colors=colors,title=\"Validation and Training Loss\", acc_freq=5,n_samps=x_train.shape[0],batch_sz=512)"
   ],
   "metadata": {
    "collapsed": false
   }
  },
  {
   "cell_type": "markdown",
   "id": "e6969aeb",
   "metadata": {},
   "source": [
    "### 5c. Nonlinear decoder\n",
    "\n",
    "Repeat what you did for the softmax classifier with the nonlinear classifier.\n",
    "\n",
    "**Note there is one additional step:** Once you get the Hebbian network `net_in` values for the train/validation/test sets, the nonlinear decoding network proposed by Krotov & Hopfield (2019) assumes that the Hebbian network `net_in` values ($h_{ij}$) that serve as the input to the decoder are transformed by the following activation function:\n",
    "\n",
    "$$x_{ij} = max(h_{ij}, 0)^n$$\n",
    "\n",
    "where $h_{ij}$ are the Hebbian network `net_in` values. In other words, apply ReLU to the `net_in` values then raise the result to the power `n`. By default, we assume that the hyperparameter $n=5$.\n",
    "\n",
    "**This additional ReLU step needs to be performed on the `net_in` values representing each of the decoder train/validation/test sets!!**\n",
    "\n",
    "\n",
    "#### Guidelines\n",
    "\n",
    "- Training should be fairly quick, but it might take a few minutes longer than the softmax network due to the added complexity.\n",
    "- The max epochs will need to be set much higher than for the softmax decoder (at least several thousand).\n",
    "- You likely will need different hyperparameter values here than the softmax network.\n",
    "- Try using the default $\\beta = 0.005$ and $m = 6$ (loss function exponent) hyperparameter values."
   ]
  },
  {
   "cell_type": "code",
   "execution_count": 29,
   "id": "a9d1969e",
   "metadata": {},
   "outputs": [],
   "source": [
    "from neural_decoder import NonlinearDecoder"
   ]
  },
  {
   "cell_type": "code",
   "execution_count": 35,
   "id": "c68dda4c",
   "metadata": {},
   "outputs": [],
   "source": [
    "def preprocess_nonlinear(x, n=5):\n",
    "    x = tf.nn.relu(x)**n\n",
    "    return x"
   ]
  },
  {
   "cell_type": "code",
   "execution_count": 36,
   "id": "3c5e9f16",
   "metadata": {},
   "outputs": [
    {
     "name": "stdout",
     "output_type": "stream",
     "text": [
      "Starting to train network ....\n",
      "Epoch 0/5000, Training Loss: 103769.97, Val loss: 630584.38, Val acc: 11.30%.\n",
      "\n",
      "Epoch 10/5000, Training Loss: 18725.06, Val loss: 132177.38, Val acc: 48.20%.\n",
      "\n",
      "Epoch 20/5000, Training Loss: 14538.27, Val loss: 93313.73, Val acc: 64.20%.\n",
      "\n",
      "Epoch 30/5000, Training Loss: 9804.07, Val loss: 69343.12, Val acc: 75.35%.\n",
      "\n",
      "Epoch 40/5000, Training Loss: 10539.35, Val loss: 54062.39, Val acc: 80.30%.\n",
      "\n",
      "Epoch 50/5000, Training Loss: 8207.68, Val loss: 49363.00, Val acc: 81.70%.\n",
      "\n",
      "Epoch 60/5000, Training Loss: 7902.27, Val loss: 45919.16, Val acc: 82.80%.\n",
      "\n",
      "Epoch 70/5000, Training Loss: 6977.26, Val loss: 43188.62, Val acc: 83.55%.\n",
      "\n",
      "Epoch 80/5000, Training Loss: 6490.45, Val loss: 41882.41, Val acc: 83.25%.\n",
      "\n",
      "Epoch 90/5000, Training Loss: 6950.91, Val loss: 40533.56, Val acc: 84.40%.\n",
      "\n",
      "Epoch 100/5000, Training Loss: 6584.87, Val loss: 39630.09, Val acc: 84.70%.\n",
      "\n",
      "Epoch 110/5000, Training Loss: 6524.44, Val loss: 38888.10, Val acc: 84.75%.\n",
      "\n",
      "Epoch 120/5000, Training Loss: 6168.31, Val loss: 39430.66, Val acc: 84.95%.\n",
      "\n",
      "Epoch 130/5000, Training Loss: 6435.71, Val loss: 31893.96, Val acc: 90.35%.\n",
      "\n",
      "Epoch 140/5000, Training Loss: 4014.25, Val loss: 28644.21, Val acc: 91.40%.\n",
      "\n",
      "Epoch 150/5000, Training Loss: 3652.05, Val loss: 27747.22, Val acc: 91.95%.\n",
      "\n",
      "Epoch 160/5000, Training Loss: 3828.04, Val loss: 26067.17, Val acc: 92.60%.\n",
      "\n",
      "Epoch 170/5000, Training Loss: 5104.81, Val loss: 24692.76, Val acc: 92.40%.\n",
      "\n",
      "Epoch 180/5000, Training Loss: 3125.94, Val loss: 24060.98, Val acc: 93.00%.\n",
      "\n",
      "Epoch 190/5000, Training Loss: 4295.31, Val loss: 23329.60, Val acc: 93.25%.\n",
      "\n",
      "Epoch 200/5000, Training Loss: 2748.00, Val loss: 22311.43, Val acc: 93.55%.\n",
      "\n",
      "Epoch 210/5000, Training Loss: 3752.12, Val loss: 21887.26, Val acc: 93.50%.\n",
      "\n",
      "Epoch 220/5000, Training Loss: 3738.74, Val loss: 21671.81, Val acc: 93.65%.\n",
      "\n",
      "Epoch 230/5000, Training Loss: 3421.67, Val loss: 20590.07, Val acc: 94.00%.\n",
      "\n",
      "Epoch 240/5000, Training Loss: 3734.95, Val loss: 20366.87, Val acc: 94.10%.\n",
      "\n",
      "Epoch 250/5000, Training Loss: 3023.21, Val loss: 19887.95, Val acc: 94.05%.\n",
      "\n",
      "Epoch 260/5000, Training Loss: 2592.85, Val loss: 19624.28, Val acc: 94.45%.\n",
      "\n",
      "Epoch 270/5000, Training Loss: 3407.23, Val loss: 18579.20, Val acc: 94.35%.\n",
      "\n",
      "Epoch 280/5000, Training Loss: 3316.44, Val loss: 18505.01, Val acc: 94.40%.\n",
      "\n",
      "Epoch 290/5000, Training Loss: 4014.95, Val loss: 18244.21, Val acc: 94.45%.\n",
      "\n",
      "Epoch 300/5000, Training Loss: 2960.09, Val loss: 17766.32, Val acc: 94.90%.\n",
      "\n",
      "Epoch 310/5000, Training Loss: 3347.33, Val loss: 17719.85, Val acc: 94.80%.\n",
      "\n",
      "Epoch 320/5000, Training Loss: 3160.97, Val loss: 17427.34, Val acc: 94.85%.\n",
      "\n",
      "Epoch 330/5000, Training Loss: 2742.70, Val loss: 17228.93, Val acc: 94.80%.\n",
      "\n",
      "Epoch 340/5000, Training Loss: 2485.30, Val loss: 16623.73, Val acc: 95.40%.\n",
      "\n",
      "Epoch 350/5000, Training Loss: 2422.19, Val loss: 17290.83, Val acc: 94.90%.\n",
      "\n",
      "Epoch 360/5000, Training Loss: 2707.65, Val loss: 16330.01, Val acc: 95.30%.\n",
      "\n",
      "Epoch 370/5000, Training Loss: 2869.84, Val loss: 16277.84, Val acc: 95.30%.\n",
      "\n",
      "Epoch 380/5000, Training Loss: 2228.78, Val loss: 15993.75, Val acc: 95.30%.\n",
      "\n",
      "Epoch 390/5000, Training Loss: 2714.99, Val loss: 15912.78, Val acc: 95.25%.\n",
      "\n",
      "Epoch 400/5000, Training Loss: 2836.20, Val loss: 15185.69, Val acc: 95.30%.\n",
      "\n",
      "Epoch 410/5000, Training Loss: 2946.19, Val loss: 15365.11, Val acc: 95.30%.\n",
      "\n",
      "Epoch 420/5000, Training Loss: 1755.40, Val loss: 16252.32, Val acc: 95.35%.\n",
      "\n",
      "Epoch 430/5000, Training Loss: 3195.97, Val loss: 14892.47, Val acc: 95.70%.\n",
      "\n",
      "Epoch 440/5000, Training Loss: 2195.71, Val loss: 14746.30, Val acc: 95.50%.\n",
      "\n"
     ]
    },
    {
     "ename": "KeyboardInterrupt",
     "evalue": "",
     "output_type": "error",
     "traceback": [
      "\u001B[0;31m---------------------------------------------------------------------------\u001B[0m",
      "\u001B[0;31mKeyboardInterrupt\u001B[0m                         Traceback (most recent call last)",
      "Cell \u001B[0;32mIn [36], line 6\u001B[0m\n\u001B[1;32m      4\u001B[0m x_train \u001B[38;5;241m=\u001B[39m preprocess_nonlinear(x_train)\n\u001B[1;32m      5\u001B[0m x_val \u001B[38;5;241m=\u001B[39m preprocess_nonlinear(x_val)\n\u001B[0;32m----> 6\u001B[0m train_loss_hist, val_loss_hist, num_epochs \u001B[38;5;241m=\u001B[39m \u001B[43mnet_001\u001B[49m\u001B[38;5;241;43m.\u001B[39;49m\u001B[43mfit\u001B[49m\u001B[43m(\u001B[49m\u001B[43mx_train\u001B[49m\u001B[43m,\u001B[49m\u001B[43m \u001B[49m\u001B[43my_train\u001B[49m\u001B[43m,\u001B[49m\u001B[43m \u001B[49m\u001B[43mx_val\u001B[49m\u001B[38;5;241;43m=\u001B[39;49m\u001B[43mx_val\u001B[49m\u001B[43m,\u001B[49m\u001B[43m \u001B[49m\u001B[43my_val\u001B[49m\u001B[38;5;241;43m=\u001B[39;49m\u001B[43my_val\u001B[49m\u001B[43m,\u001B[49m\u001B[43m \u001B[49m\u001B[43mmini_batch_sz\u001B[49m\u001B[38;5;241;43m=\u001B[39;49m\u001B[38;5;241;43m512\u001B[39;49m\u001B[43m,\u001B[49m\u001B[43m \u001B[49m\u001B[43mlr\u001B[49m\u001B[38;5;241;43m=\u001B[39;49m\u001B[38;5;241;43m1e-4\u001B[39;49m\u001B[43m,\u001B[49m\u001B[43m \u001B[49m\u001B[43mmax_epochs\u001B[49m\u001B[38;5;241;43m=\u001B[39;49m\u001B[38;5;241;43m5000\u001B[39;49m\u001B[43m,\u001B[49m\u001B[43m \u001B[49m\u001B[43mpatience\u001B[49m\u001B[38;5;241;43m=\u001B[39;49m\u001B[38;5;241;43m10\u001B[39;49m\u001B[43m,\u001B[49m\u001B[43m \u001B[49m\u001B[43mval_every\u001B[49m\u001B[38;5;241;43m=\u001B[39;49m\u001B[38;5;241;43m10\u001B[39;49m\u001B[43m,\u001B[49m\n\u001B[1;32m      7\u001B[0m \u001B[43m            \u001B[49m\u001B[43mverbose\u001B[49m\u001B[38;5;241;43m=\u001B[39;49m\u001B[38;5;28;43;01mTrue\u001B[39;49;00m\u001B[43m)\u001B[49m\n",
      "File \u001B[0;32m~/Desktop/CS443_Projects/p1hebb/neural_decoder.py:305\u001B[0m, in \u001B[0;36mNeuralDecoder.fit\u001B[0;34m(self, x, y, x_val, y_val, mini_batch_sz, lr, max_epochs, patience, val_every, verbose)\u001B[0m\n\u001B[1;32m    303\u001B[0m \u001B[38;5;28;01mwith\u001B[39;00m tf\u001B[38;5;241m.\u001B[39mGradientTape() \u001B[38;5;28;01mas\u001B[39;00m tape:\n\u001B[1;32m    304\u001B[0m     net_act \u001B[38;5;241m=\u001B[39m \u001B[38;5;28mself\u001B[39m\u001B[38;5;241m.\u001B[39mforward(x_mini_batch)\n\u001B[0;32m--> 305\u001B[0m     yh \u001B[38;5;241m=\u001B[39m \u001B[38;5;28;43mself\u001B[39;49m\u001B[38;5;241;43m.\u001B[39;49m\u001B[43mone_hot\u001B[49m\u001B[43m(\u001B[49m\u001B[43my\u001B[49m\u001B[38;5;241;43m=\u001B[39;49m\u001B[43my_mini_batch\u001B[49m\u001B[43m,\u001B[49m\u001B[43m \u001B[49m\u001B[43mC\u001B[49m\u001B[38;5;241;43m=\u001B[39;49m\u001B[38;5;28;43mself\u001B[39;49m\u001B[38;5;241;43m.\u001B[39;49m\u001B[43mnum_classes\u001B[49m\u001B[43m)\u001B[49m\n\u001B[1;32m    306\u001B[0m     loss \u001B[38;5;241m=\u001B[39m \u001B[38;5;28mself\u001B[39m\u001B[38;5;241m.\u001B[39mloss(yh, net_act)\n\u001B[1;32m    308\u001B[0m grads \u001B[38;5;241m=\u001B[39m tape\u001B[38;5;241m.\u001B[39mgradient(loss, (\u001B[38;5;28mself\u001B[39m\u001B[38;5;241m.\u001B[39mwts, \u001B[38;5;28mself\u001B[39m\u001B[38;5;241m.\u001B[39mb))\n",
      "File \u001B[0;32m~/Desktop/CS443_Projects/p1hebb/neural_decoder.py:382\u001B[0m, in \u001B[0;36mNonlinearDecoder.one_hot\u001B[0;34m(self, y, C)\u001B[0m\n\u001B[1;32m    381\u001B[0m \u001B[38;5;28;01mdef\u001B[39;00m \u001B[38;5;21mone_hot\u001B[39m(\u001B[38;5;28mself\u001B[39m, y, C):\n\u001B[0;32m--> 382\u001B[0m     \u001B[38;5;28;01mreturn\u001B[39;00m \u001B[43mtf\u001B[49m\u001B[38;5;241;43m.\u001B[39;49m\u001B[43mcast\u001B[49m\u001B[43m(\u001B[49m\u001B[43mtf\u001B[49m\u001B[38;5;241;43m.\u001B[39;49m\u001B[43mone_hot\u001B[49m\u001B[43m(\u001B[49m\u001B[43mindices\u001B[49m\u001B[38;5;241;43m=\u001B[39;49m\u001B[43my\u001B[49m\u001B[43m,\u001B[49m\u001B[43m \u001B[49m\u001B[43mdepth\u001B[49m\u001B[38;5;241;43m=\u001B[39;49m\u001B[43mC\u001B[49m\u001B[43m,\u001B[49m\u001B[43m \u001B[49m\u001B[43moff_value\u001B[49m\u001B[38;5;241;43m=\u001B[39;49m\u001B[38;5;241;43m-\u001B[39;49m\u001B[38;5;241;43m1\u001B[39;49m\u001B[43m)\u001B[49m\u001B[43m,\u001B[49m\u001B[43m \u001B[49m\u001B[43mdtype\u001B[49m\u001B[38;5;241;43m=\u001B[39;49m\u001B[43mtf\u001B[49m\u001B[38;5;241;43m.\u001B[39;49m\u001B[43mfloat32\u001B[49m\u001B[43m)\u001B[49m\n",
      "File \u001B[0;32m~/miniforge3/lib/python3.10/site-packages/tensorflow/python/util/traceback_utils.py:150\u001B[0m, in \u001B[0;36mfilter_traceback.<locals>.error_handler\u001B[0;34m(*args, **kwargs)\u001B[0m\n\u001B[1;32m    148\u001B[0m filtered_tb \u001B[38;5;241m=\u001B[39m \u001B[38;5;28;01mNone\u001B[39;00m\n\u001B[1;32m    149\u001B[0m \u001B[38;5;28;01mtry\u001B[39;00m:\n\u001B[0;32m--> 150\u001B[0m   \u001B[38;5;28;01mreturn\u001B[39;00m \u001B[43mfn\u001B[49m\u001B[43m(\u001B[49m\u001B[38;5;241;43m*\u001B[39;49m\u001B[43margs\u001B[49m\u001B[43m,\u001B[49m\u001B[43m \u001B[49m\u001B[38;5;241;43m*\u001B[39;49m\u001B[38;5;241;43m*\u001B[39;49m\u001B[43mkwargs\u001B[49m\u001B[43m)\u001B[49m\n\u001B[1;32m    151\u001B[0m \u001B[38;5;28;01mexcept\u001B[39;00m \u001B[38;5;167;01mException\u001B[39;00m \u001B[38;5;28;01mas\u001B[39;00m e:\n\u001B[1;32m    152\u001B[0m   filtered_tb \u001B[38;5;241m=\u001B[39m _process_traceback_frames(e\u001B[38;5;241m.\u001B[39m__traceback__)\n",
      "File \u001B[0;32m~/miniforge3/lib/python3.10/site-packages/tensorflow/python/util/dispatch.py:1082\u001B[0m, in \u001B[0;36madd_dispatch_support.<locals>.decorator.<locals>.op_dispatch_handler\u001B[0;34m(*args, **kwargs)\u001B[0m\n\u001B[1;32m   1080\u001B[0m \u001B[38;5;66;03m# Fallback dispatch system (dispatch v1):\u001B[39;00m\n\u001B[1;32m   1081\u001B[0m \u001B[38;5;28;01mtry\u001B[39;00m:\n\u001B[0;32m-> 1082\u001B[0m   \u001B[38;5;28;01mreturn\u001B[39;00m \u001B[43mdispatch_target\u001B[49m\u001B[43m(\u001B[49m\u001B[38;5;241;43m*\u001B[39;49m\u001B[43margs\u001B[49m\u001B[43m,\u001B[49m\u001B[43m \u001B[49m\u001B[38;5;241;43m*\u001B[39;49m\u001B[38;5;241;43m*\u001B[39;49m\u001B[43mkwargs\u001B[49m\u001B[43m)\u001B[49m\n\u001B[1;32m   1083\u001B[0m \u001B[38;5;28;01mexcept\u001B[39;00m (\u001B[38;5;167;01mTypeError\u001B[39;00m, \u001B[38;5;167;01mValueError\u001B[39;00m):\n\u001B[1;32m   1084\u001B[0m   \u001B[38;5;66;03m# Note: convert_to_eager_tensor currently raises a ValueError, not a\u001B[39;00m\n\u001B[1;32m   1085\u001B[0m   \u001B[38;5;66;03m# TypeError, when given unexpected types.  So we need to catch both.\u001B[39;00m\n\u001B[1;32m   1086\u001B[0m   result \u001B[38;5;241m=\u001B[39m dispatch(op_dispatch_handler, args, kwargs)\n",
      "File \u001B[0;32m~/miniforge3/lib/python3.10/site-packages/tensorflow/python/ops/math_ops.py:1002\u001B[0m, in \u001B[0;36mcast\u001B[0;34m(x, dtype, name)\u001B[0m\n\u001B[1;32m   1000\u001B[0m   x \u001B[38;5;241m=\u001B[39m ops\u001B[38;5;241m.\u001B[39mconvert_to_tensor(x, name\u001B[38;5;241m=\u001B[39m\u001B[38;5;124m\"\u001B[39m\u001B[38;5;124mx\u001B[39m\u001B[38;5;124m\"\u001B[39m)\n\u001B[1;32m   1001\u001B[0m   \u001B[38;5;28;01mif\u001B[39;00m x\u001B[38;5;241m.\u001B[39mdtype \u001B[38;5;241m!=\u001B[39m base_type:\n\u001B[0;32m-> 1002\u001B[0m     x \u001B[38;5;241m=\u001B[39m \u001B[43mgen_math_ops\u001B[49m\u001B[38;5;241;43m.\u001B[39;49m\u001B[43mcast\u001B[49m\u001B[43m(\u001B[49m\u001B[43mx\u001B[49m\u001B[43m,\u001B[49m\u001B[43m \u001B[49m\u001B[43mbase_type\u001B[49m\u001B[43m,\u001B[49m\u001B[43m \u001B[49m\u001B[43mname\u001B[49m\u001B[38;5;241;43m=\u001B[39;49m\u001B[43mname\u001B[49m\u001B[43m)\u001B[49m\n\u001B[1;32m   1003\u001B[0m \u001B[38;5;28;01mif\u001B[39;00m x\u001B[38;5;241m.\u001B[39mdtype\u001B[38;5;241m.\u001B[39mis_complex \u001B[38;5;129;01mand\u001B[39;00m base_type\u001B[38;5;241m.\u001B[39mis_floating:\n\u001B[1;32m   1004\u001B[0m   logging\u001B[38;5;241m.\u001B[39mwarn(\u001B[38;5;124m\"\u001B[39m\u001B[38;5;124mCasting complex to real discards imaginary part.\u001B[39m\u001B[38;5;124m\"\u001B[39m)\n",
      "File \u001B[0;32m~/miniforge3/lib/python3.10/site-packages/tensorflow/python/ops/gen_math_ops.py:1997\u001B[0m, in \u001B[0;36mcast\u001B[0;34m(x, DstT, Truncate, name)\u001B[0m\n\u001B[1;32m   1995\u001B[0m \u001B[38;5;28;01mif\u001B[39;00m tld\u001B[38;5;241m.\u001B[39mis_eager:\n\u001B[1;32m   1996\u001B[0m   \u001B[38;5;28;01mtry\u001B[39;00m:\n\u001B[0;32m-> 1997\u001B[0m     _result \u001B[38;5;241m=\u001B[39m \u001B[43mpywrap_tfe\u001B[49m\u001B[38;5;241;43m.\u001B[39;49m\u001B[43mTFE_Py_FastPathExecute\u001B[49m\u001B[43m(\u001B[49m\n\u001B[1;32m   1998\u001B[0m \u001B[43m      \u001B[49m\u001B[43m_ctx\u001B[49m\u001B[43m,\u001B[49m\u001B[43m \u001B[49m\u001B[38;5;124;43m\"\u001B[39;49m\u001B[38;5;124;43mCast\u001B[39;49m\u001B[38;5;124;43m\"\u001B[39;49m\u001B[43m,\u001B[49m\u001B[43m \u001B[49m\u001B[43mname\u001B[49m\u001B[43m,\u001B[49m\u001B[43m \u001B[49m\u001B[43mx\u001B[49m\u001B[43m,\u001B[49m\u001B[43m \u001B[49m\u001B[38;5;124;43m\"\u001B[39;49m\u001B[38;5;124;43mDstT\u001B[39;49m\u001B[38;5;124;43m\"\u001B[39;49m\u001B[43m,\u001B[49m\u001B[43m \u001B[49m\u001B[43mDstT\u001B[49m\u001B[43m,\u001B[49m\u001B[43m \u001B[49m\u001B[38;5;124;43m\"\u001B[39;49m\u001B[38;5;124;43mTruncate\u001B[39;49m\u001B[38;5;124;43m\"\u001B[39;49m\u001B[43m,\u001B[49m\u001B[43m \u001B[49m\u001B[43mTruncate\u001B[49m\u001B[43m)\u001B[49m\n\u001B[1;32m   1999\u001B[0m     \u001B[38;5;28;01mreturn\u001B[39;00m _result\n\u001B[1;32m   2000\u001B[0m   \u001B[38;5;28;01mexcept\u001B[39;00m _core\u001B[38;5;241m.\u001B[39m_NotOkStatusException \u001B[38;5;28;01mas\u001B[39;00m e:\n",
      "\u001B[0;31mKeyboardInterrupt\u001B[0m: "
     ]
    }
   ],
   "source": [
    "# preprocess and decode\n",
    "net_001 =  NonlinearDecoder(num_features=H, num_classes=np.unique(y_val).shape[0], wt_stdev=0.1,beta=0.005,loss_exp=6)\n",
    "\n",
    "x_train = preprocess_nonlinear(x_train)\n",
    "x_val = preprocess_nonlinear(x_val)\n",
    "train_loss_hist, val_loss_hist, num_epochs = net_001.fit(x_train, y_train, x_val=x_val, y_val=y_val, mini_batch_sz=512, lr=1e-4, max_epochs=5000, patience=10, val_every=10,\n",
    "            verbose=True)"
   ]
  },
  {
   "cell_type": "code",
   "execution_count": 37,
   "id": "82ead1e6",
   "metadata": {},
   "outputs": [
    {
     "name": "stderr",
     "output_type": "stream",
     "text": [
      "/var/folders/w9/cc58q4sx1_x2xvcygb70jn2w0000gp/T/ipykernel_13449/2315733700.py:24: UserWarning: FixedFormatter should only be used together with FixedLocator\n",
      "  axes.set_xticklabels(axes.get_xticks(), rotation=0)\n"
     ]
    },
    {
     "data": {
      "text/plain": "<Figure size 900x900 with 1 Axes>",
      "image/png": "[encoded data removed]"
     },
     "metadata": {},
     "output_type": "display_data"
    }
   ],
   "source": [
    "# plot\n",
    "plot_multiple_loss([train_loss_hist,val_loss_hist],[\"train_loss_hist\",\"val_loss_hist\"],colors=colors,title=\"Validation and Training Loss\", acc_freq=5,n_samps=x_train.shape[0],batch_sz=512)"
   ]
  },
  {
   "cell_type": "markdown",
   "id": "d25a8f90",
   "metadata": {},
   "source": [
    "### 5d. Questions\n",
    "\n",
    "**Question 9:** Reflect on the relative performance of the linear and nonlinear decoders. In at least one paragraph, compare and contrast pros/cons. \n",
    "\n",
    "**Question 10:** Explain your reasoning for picking the hyperparameters that you did for either decoder.\n",
    "\n",
    "**Question 11:** Which decoder requires more epochs to train until the validation loss/accuracy plateaus? Why do you think that is?"
   ]
  },
  {
   "cell_type": "markdown",
   "id": "8497652f",
   "metadata": {},
   "source": [
    "**Answer 9:** \n",
    "\n",
    "**Answer 10:** \n",
    "\n",
    "**Answer 11:**"
   ]
  },
  {
   "cell_type": "markdown",
   "id": "401d51b1",
   "metadata": {},
   "source": [
    "## Extensions"
   ]
  },
  {
   "cell_type": "markdown",
   "id": "cb0665b5",
   "metadata": {},
   "source": [
    "### 0. Compare encoder-decoder model to end-to-end training\n",
    "\n",
    "Compare how accurately the linear and nonlinear decoders learn from raw MNIST samples compared to from the Hebbian network activations (*I would suggest keeping hyperparameters constant for a fair comparison*). There is a lot to explore here! Here are a few questions to examine:\n",
    "- How rapidly the decoders networks learn their inputs (e.g. number of training epochs needed to achieve \"good\" accuracy on the validation set)?\n",
    "- What is the best test accuracy achieved by the decoders networks with the same hyperparameters?\n",
    "- How does the decoder training times compare with the Hebbian inputs vs raw MNIST samples to achieve some level of accuracy?\n",
    "- Remember that you control the dimension of the \"embedding\" performed by the Hebbian network (i.e. number of neurons in the net). How does the accuracy and/or training time of the decoders trade off with the Hebbian network embedding size?"
   ]
  },
  {
   "cell_type": "markdown",
   "id": "189c8757",
   "metadata": {},
   "source": [
    "### 1. Use your CS 343 Softmax network as the linear decoder\n",
    "\n",
    "This will require a few updates to support the Adam optimizer (that you implemented in the CS 343 CNN project) and validation sets.\n",
    "\n",
    "Copy `softmax_layer.py` from your CS343 MLP project to your working directory. Also copy `optimizer.py` from your CS343 CNN project.\n",
    "\n",
    "Make the following changes to `fit()` in `softmax_layer.py`:\n",
    "1. Switch your optimizer from SGD to Adam. This will involve creating two `Adam` objects: one for the weights, one for the bias. Also, be sure to set the Adam learning rate based on the value passed into `fit()`.\n",
    "2. Add support in `fit()` for a validation set by adding the keyword arguments: `x_val=None, y_val=None`. If `verbose > 0` print out the accuracy and loss over the entire validation set. \n",
    "3. If `verbose > 0` convert your print outs to happen in terms of epochs rather than iterations (e.g. every epoch, not every 100 iterations). Add a keyword argument `val_freq=50` to specify how often (in epochs) to check and print out the validation accuracy and loss. Be sure to always print out the validation accuracy and loss on the first and last epoch regardless of the `val_freq` value.\n",
    "4. Have `fit()` return both the train and validation loss as Python lists or ndarrays. In cases when you do not pass in a validation set, the returned validation loss list may be `None` and that's ok.\n",
    "\n",
    "The network should train similarily to your Tensorflow version. Compare/analyze runtime performance."
   ]
  },
  {
   "cell_type": "markdown",
   "id": "4d18af83",
   "metadata": {},
   "source": [
    "### 2. Encode an image dataset of your choice with the Hebbian network\n",
    "\n",
    "For example, Fashion MNIST, STL-10 or CIFAR-10. If your images contain color, I suggest either converting to grayscale or flattening the color channels when constructing your feature vectors (e.g. `(32, 32, 3)` color image made into a `(3072,)` vector). Note that color images will clearly take much longer to train.\n",
    "\n",
    "Some areas to explore:\n",
    "- Visualize the weights. Analyze how hyperparameters affect the structure.\n",
    "- Compare decoding accuracy\n"
   ]
  },
  {
   "cell_type": "markdown",
   "id": "f131579c",
   "metadata": {},
   "source": [
    "### 3. Learning rate decay\n",
    "\n",
    "Krotov & Hopfield (2019) decayed the learning rate according to a epoch-based schedule for both the Hebbian network and the decoder (see their Appendix B for details). Implement this or your own variant (for either encoder and/or decoder network) and explore whether it improves decoding performance."
   ]
  },
  {
   "cell_type": "markdown",
   "id": "e8a9301a",
   "metadata": {},
   "source": [
    "### 4. Hyperparameter tuning\n",
    "\n",
    "Use a grid or random search for encoder and/decoder networks to optimize performance.\n",
    "\n",
    "How does the number of \"runner-up\" neurons in the Hebbian network ($K$) influence the learned weights (visually) or the accuracy with which either decoding network decodes the correct digit?"
   ]
  },
  {
   "cell_type": "markdown",
   "id": "1def3c63",
   "metadata": {},
   "source": [
    "### 5. Visualize Hebbian network activations\n",
    "\n",
    "- Develop a way to visualize and gain a better intuition about how a Hebbian neuron's learned weights contribute to the activation across the network. One idea is to normalize each neuron's learned weights between [0, 1] (or in a way that preserves negative wts) after training. Then to visualize the contributions for a given sample `i`, scale each neuron's weights by the its netIn value to sample `i`. Draw the scaled weights using `draw_grid_image`. It might be helpful to do this for a Hebbian network with a smaller number of neurons so that you can legibly plot every neuron's weights in one plot. Analyze/interpret the relationship between this weight plot and the decoded predictions.\n",
    "- Figure out how to record the \"live\" Hebbian training weight plots into videos for later viewing.\n",
    "\n",
    "This are only two ideas — try out other ideas that come to mind!"
   ]
  },
  {
   "cell_type": "markdown",
   "id": "dd4ead03",
   "metadata": {},
   "source": [
    "### 6. Confusion matrix and error analysis of MNIST classification\n",
    "\n",
    "For one or both classifier, make a confusion matrix of the digit classifications. Use your confusion matrix to gain insight into misclassifications. Run follow-up analyses/training sessions to explore patterns in more depth. For example, if two classes are frequently misclassified, how neurons in the Hebbian network develop receptive fields that resemble each? Are the weights resembling the two classes strongly correlated (and how?)? To what degree are inhibitory weights learned for these neurons? What happens if you train the Hebbian network on only samples belonging to the two classes — do classes of either class become less/more confusable? And so forth..."
   ]
  },
  {
   "cell_type": "markdown",
   "id": "f9d6df91",
   "metadata": {},
   "source": [
    "### 7. Hebbian network in TensorFlow\n",
    "\n",
    "Implement the Hebbian network using TensorFlow rather than Numpy. Quantify/compare the runtime performance of each version.\n",
    "\n",
    "Notes: \n",
    "- Run your analysis for different mini-batch sizes. Start small, but try a wide range of sizes make sure your computer can handle the values you select. The TensorFlow version may only be faster for certain mini-batch sizes.\n",
    "- You probably will notice the biggest difference if you have GPU accelerated TensorFlow working on your computer."
   ]
  },
  {
   "cell_type": "markdown",
   "id": "492e880a",
   "metadata": {},
   "source": [
    "### 8. Implement the Generalized Hebbian Algorithm (GHA) and compare to PCA\n",
    "\n",
    "The GHA provides an incremental version of PCA — compute PCA one sample at a time over a number of training epochs. This approach can be helpful when you want to run PCA on a large dataset, but the dataset is too large to fit in your computer's memory (e.g. perhaps STL-10 at full 96x96 resolution). \n",
    "\n",
    "Implement GHA then show for a large dataset (e.g. STL-10) that GHA computes the PCA representation, whereas regular PCA (e.g. from CS251/2) fails. Plot what the image samples look like over training epochs when projected to PCA space and then back to the original data space (i.e. filtered by the learned principle components / network weights). If this sounds interesting, please see me for guidance."
   ]
  },
  {
   "cell_type": "markdown",
   "id": "2b82baa8",
   "metadata": {},
   "source": [
    "### 9. Experiment with different decoder architectures\n",
    "\n",
    "Create one or more different nonlinear decoders in TensorFlow (e.g. MLP, CNN). Compare performance/accuracy with the nonlinear one in the project."
   ]
  },
  {
   "cell_type": "markdown",
   "id": "0397f133",
   "metadata": {},
   "source": [
    "### 10. Tuning Hebbian network\n",
    "\n",
    "Experiment with how the Hebbian network hyperparameters (number of neurons, which neuron gets inhibited, inhibition strength, etc.) affect encoding of the MNIST digits and decoding accuracy."
   ]
  }
 ],
 "metadata": {
  "kernelspec": {
   "display_name": "Python 3",
   "language": "python",
   "name": "python3"
  },
  "language_info": {
   "codemirror_mode": {
    "name": "ipython",
    "version": 3
   },
   "file_extension": ".py",
   "mimetype": "text/x-python",
   "name": "python",
   "nbconvert_exporter": "python",
   "pygments_lexer": "ipython3",
   "version": "3.10.9 (v3.10.9:1dd9be6584, Dec  6 2022, 14:37:36) [Clang 13.0.0 (clang-1300.0.29.30)]"
  },
  "vscode": {
   "interpreter": {
    "hash": "aee8b7b246df8f9039afb4144a1f6fd8d2ca17a180786b69acc140d282b71a49"
   }
  }
 },
 "nbformat": 4,
 "nbformat_minor": 5
}
